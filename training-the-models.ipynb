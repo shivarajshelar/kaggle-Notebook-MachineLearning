{
 "cells": [
  {
   "cell_type": "code",
   "execution_count": 1,
   "id": "3b291ad3",
   "metadata": {
    "_cell_guid": "b1076dfc-b9ad-4769-8c92-a6c4dae69d19",
    "_uuid": "8f2839f25d086af736a60e9eeb907d3b93b6e0e5",
    "execution": {
     "iopub.execute_input": "2025-09-05T04:48:09.066617Z",
     "iopub.status.busy": "2025-09-05T04:48:09.066240Z",
     "iopub.status.idle": "2025-09-05T04:48:12.711522Z",
     "shell.execute_reply": "2025-09-05T04:48:12.710516Z"
    },
    "papermill": {
     "duration": 3.662522,
     "end_time": "2025-09-05T04:48:12.712969",
     "exception": false,
     "start_time": "2025-09-05T04:48:09.050447",
     "status": "completed"
    },
    "tags": []
   },
   "outputs": [
    {
     "name": "stdout",
     "output_type": "stream",
     "text": [
      "/kaggle/input/social-media-addiction-vs-relationships/Students Social Media Addiction.csv\n"
     ]
    }
   ],
   "source": [
    "# This Python 3 environment comes with many helpful analytics libraries installed\n",
    "# It is defined by the kaggle/python Docker image: https://github.com/kaggle/docker-python\n",
    "# For example, here's several helpful packages to load\n",
    "\n",
    "import numpy as np # linear algebra\n",
    "import pandas as pd # data processing, CSV file I/O (e.g. pd.read_csv)\n",
    "import seaborn as sns\n",
    "import matplotlib.pyplot as plt \n",
    "\n",
    "# Input data files are available in the read-only \"../input/\" directory\n",
    "# For example, running this (by clicking run or pressing Shift+Enter) will list all files under the input directory\n",
    "\n",
    "import os\n",
    "for dirname, _, filenames in os.walk('/kaggle/input'):\n",
    "    for filename in filenames:\n",
    "        print(os.path.join(dirname, filename))\n",
    "\n",
    "# You can write up to 20GB to the current directory (/kaggle/working/) that gets preserved as output when you create a version using \"Save & Run All\" \n",
    "# You can also write temporary files to /kaggle/temp/, but they won't be saved outside of the current session"
   ]
  },
  {
   "cell_type": "code",
   "execution_count": 2,
   "id": "ce532dbd",
   "metadata": {
    "execution": {
     "iopub.execute_input": "2025-09-05T04:48:12.742202Z",
     "iopub.status.busy": "2025-09-05T04:48:12.741453Z",
     "iopub.status.idle": "2025-09-05T04:48:12.746414Z",
     "shell.execute_reply": "2025-09-05T04:48:12.745532Z"
    },
    "papermill": {
     "duration": 0.021222,
     "end_time": "2025-09-05T04:48:12.747728",
     "exception": false,
     "start_time": "2025-09-05T04:48:12.726506",
     "status": "completed"
    },
    "tags": []
   },
   "outputs": [],
   "source": [
    "np.random.seed(42)\n",
    "m = 100 \n",
    "X = 2*np.random.rand(m,1)\n",
    "y = 4 + 3*X + np.random.randn(m,1)"
   ]
  },
  {
   "cell_type": "code",
   "execution_count": 3,
   "id": "bf01d498",
   "metadata": {
    "execution": {
     "iopub.execute_input": "2025-09-05T04:48:12.776073Z",
     "iopub.status.busy": "2025-09-05T04:48:12.775744Z",
     "iopub.status.idle": "2025-09-05T04:48:13.072967Z",
     "shell.execute_reply": "2025-09-05T04:48:13.072021Z"
    },
    "papermill": {
     "duration": 0.313451,
     "end_time": "2025-09-05T04:48:13.074527",
     "exception": false,
     "start_time": "2025-09-05T04:48:12.761076",
     "status": "completed"
    },
    "tags": []
   },
   "outputs": [
    {
     "data": {
      "image/png": "[encoded data removed]",
      "text/plain": [
       "<Figure size 640x480 with 1 Axes>"
      ]
     },
     "metadata": {},
     "output_type": "display_data"
    }
   ],
   "source": [
    "plt.scatter(X,y)\n",
    "plt.show()"
   ]
  },
  {
   "cell_type": "code",
   "execution_count": 4,
   "id": "74775d57",
   "metadata": {
    "execution": {
     "iopub.execute_input": "2025-09-05T04:48:13.103503Z",
     "iopub.status.busy": "2025-09-05T04:48:13.103217Z",
     "iopub.status.idle": "2025-09-05T04:48:13.253825Z",
     "shell.execute_reply": "2025-09-05T04:48:13.252896Z"
    },
    "papermill": {
     "duration": 0.167025,
     "end_time": "2025-09-05T04:48:13.255495",
     "exception": false,
     "start_time": "2025-09-05T04:48:13.088470",
     "status": "completed"
    },
    "tags": []
   },
   "outputs": [],
   "source": [
    "from sklearn.preprocessing import add_dummy_feature\n",
    "X_b = add_dummy_feature(X)"
   ]
  },
  {
   "cell_type": "code",
   "execution_count": 5,
   "id": "73c5d61f",
   "metadata": {
    "execution": {
     "iopub.execute_input": "2025-09-05T04:48:13.284514Z",
     "iopub.status.busy": "2025-09-05T04:48:13.284211Z",
     "iopub.status.idle": "2025-09-05T04:48:13.291643Z",
     "shell.execute_reply": "2025-09-05T04:48:13.290709Z"
    },
    "papermill": {
     "duration": 0.023398,
     "end_time": "2025-09-05T04:48:13.292984",
     "exception": false,
     "start_time": "2025-09-05T04:48:13.269586",
     "status": "completed"
    },
    "tags": []
   },
   "outputs": [],
   "source": [
    "theta_best = np.linalg.inv(X_b.T @ X_b) @ X_b.T @ y"
   ]
  },
  {
   "cell_type": "code",
   "execution_count": 6,
   "id": "796f848d",
   "metadata": {
    "execution": {
     "iopub.execute_input": "2025-09-05T04:48:13.321217Z",
     "iopub.status.busy": "2025-09-05T04:48:13.320839Z",
     "iopub.status.idle": "2025-09-05T04:48:13.326498Z",
     "shell.execute_reply": "2025-09-05T04:48:13.325778Z"
    },
    "papermill": {
     "duration": 0.021263,
     "end_time": "2025-09-05T04:48:13.327861",
     "exception": false,
     "start_time": "2025-09-05T04:48:13.306598",
     "status": "completed"
    },
    "tags": []
   },
   "outputs": [
    {
     "data": {
      "text/plain": [
       "array([[4.21509616],\n",
       "       [2.77011339]])"
      ]
     },
     "execution_count": 6,
     "metadata": {},
     "output_type": "execute_result"
    }
   ],
   "source": [
    "theta_best"
   ]
  },
  {
   "cell_type": "code",
   "execution_count": 7,
   "id": "57918af4",
   "metadata": {
    "execution": {
     "iopub.execute_input": "2025-09-05T04:48:13.356455Z",
     "iopub.status.busy": "2025-09-05T04:48:13.356140Z",
     "iopub.status.idle": "2025-09-05T04:48:13.362169Z",
     "shell.execute_reply": "2025-09-05T04:48:13.361242Z"
    },
    "papermill": {
     "duration": 0.021734,
     "end_time": "2025-09-05T04:48:13.363455",
     "exception": false,
     "start_time": "2025-09-05T04:48:13.341721",
     "status": "completed"
    },
    "tags": []
   },
   "outputs": [
    {
     "data": {
      "text/plain": [
       "((100, 2), (2, 100))"
      ]
     },
     "execution_count": 7,
     "metadata": {},
     "output_type": "execute_result"
    }
   ],
   "source": [
    "X_b.shape , X_b.T.shape"
   ]
  },
  {
   "cell_type": "code",
   "execution_count": 8,
   "id": "98f22932",
   "metadata": {
    "execution": {
     "iopub.execute_input": "2025-09-05T04:48:13.392719Z",
     "iopub.status.busy": "2025-09-05T04:48:13.392044Z",
     "iopub.status.idle": "2025-09-05T04:48:13.397858Z",
     "shell.execute_reply": "2025-09-05T04:48:13.397128Z"
    },
    "papermill": {
     "duration": 0.021783,
     "end_time": "2025-09-05T04:48:13.399108",
     "exception": false,
     "start_time": "2025-09-05T04:48:13.377325",
     "status": "completed"
    },
    "tags": []
   },
   "outputs": [
    {
     "data": {
      "text/plain": [
       "(100, 100)"
      ]
     },
     "execution_count": 8,
     "metadata": {},
     "output_type": "execute_result"
    }
   ],
   "source": [
    "(X_b @ X_b.T).shape"
   ]
  },
  {
   "cell_type": "code",
   "execution_count": 9,
   "id": "ceae2f8d",
   "metadata": {
    "execution": {
     "iopub.execute_input": "2025-09-05T04:48:13.490469Z",
     "iopub.status.busy": "2025-09-05T04:48:13.489544Z",
     "iopub.status.idle": "2025-09-05T04:48:13.493942Z",
     "shell.execute_reply": "2025-09-05T04:48:13.493147Z"
    },
    "papermill": {
     "duration": 0.020866,
     "end_time": "2025-09-05T04:48:13.495342",
     "exception": false,
     "start_time": "2025-09-05T04:48:13.474476",
     "status": "completed"
    },
    "tags": []
   },
   "outputs": [],
   "source": [
    "X_new = np.array([[0],[1]])"
   ]
  },
  {
   "cell_type": "code",
   "execution_count": 10,
   "id": "7f28bdfe",
   "metadata": {
    "execution": {
     "iopub.execute_input": "2025-09-05T04:48:13.525591Z",
     "iopub.status.busy": "2025-09-05T04:48:13.525313Z",
     "iopub.status.idle": "2025-09-05T04:48:13.531324Z",
     "shell.execute_reply": "2025-09-05T04:48:13.530385Z"
    },
    "papermill": {
     "duration": 0.023084,
     "end_time": "2025-09-05T04:48:13.532677",
     "exception": false,
     "start_time": "2025-09-05T04:48:13.509593",
     "status": "completed"
    },
    "tags": []
   },
   "outputs": [
    {
     "data": {
      "text/plain": [
       "((2, 2), (2, 1))"
      ]
     },
     "execution_count": 10,
     "metadata": {},
     "output_type": "execute_result"
    }
   ],
   "source": [
    "X_new\n",
    "X_new_B = add_dummy_feature(X_new)\n",
    "X_new_B.shape , theta_best.shape"
   ]
  },
  {
   "cell_type": "code",
   "execution_count": 11,
   "id": "63c92cb4",
   "metadata": {
    "execution": {
     "iopub.execute_input": "2025-09-05T04:48:13.562751Z",
     "iopub.status.busy": "2025-09-05T04:48:13.562344Z",
     "iopub.status.idle": "2025-09-05T04:48:13.566474Z",
     "shell.execute_reply": "2025-09-05T04:48:13.565711Z"
    },
    "papermill": {
     "duration": 0.020547,
     "end_time": "2025-09-05T04:48:13.568024",
     "exception": false,
     "start_time": "2025-09-05T04:48:13.547477",
     "status": "completed"
    },
    "tags": []
   },
   "outputs": [],
   "source": [
    "y_predict = X_new_B @ theta_best"
   ]
  },
  {
   "cell_type": "code",
   "execution_count": 12,
   "id": "5ed56997",
   "metadata": {
    "execution": {
     "iopub.execute_input": "2025-09-05T04:48:13.597344Z",
     "iopub.status.busy": "2025-09-05T04:48:13.597041Z",
     "iopub.status.idle": "2025-09-05T04:48:13.747771Z",
     "shell.execute_reply": "2025-09-05T04:48:13.746935Z"
    },
    "papermill": {
     "duration": 0.167132,
     "end_time": "2025-09-05T04:48:13.749262",
     "exception": false,
     "start_time": "2025-09-05T04:48:13.582130",
     "status": "completed"
    },
    "tags": []
   },
   "outputs": [
    {
     "data": {
      "image/png": "[encoded data removed]",
      "text/plain": [
       "<Figure size 640x480 with 1 Axes>"
      ]
     },
     "metadata": {},
     "output_type": "display_data"
    }
   ],
   "source": [
    "import matplotlib.pyplot as plt\n",
    "plt.plot(X_new, y_predict, \"r-\", label=\"Predictions\")\n",
    "plt.plot(X, y, \"b.\")\n",
    "plt.show()"
   ]
  },
  {
   "cell_type": "code",
   "execution_count": 13,
   "id": "e94af8cc",
   "metadata": {
    "execution": {
     "iopub.execute_input": "2025-09-05T04:48:13.779727Z",
     "iopub.status.busy": "2025-09-05T04:48:13.779399Z",
     "iopub.status.idle": "2025-09-05T04:48:13.992526Z",
     "shell.execute_reply": "2025-09-05T04:48:13.991511Z"
    },
    "papermill": {
     "duration": 0.229854,
     "end_time": "2025-09-05T04:48:13.993944",
     "exception": false,
     "start_time": "2025-09-05T04:48:13.764090",
     "status": "completed"
    },
    "tags": []
   },
   "outputs": [
    {
     "data": {
      "text/plain": [
       "(array([[2.77011339]]), array([4.21509616]))"
      ]
     },
     "execution_count": 13,
     "metadata": {},
     "output_type": "execute_result"
    }
   ],
   "source": [
    "from sklearn.linear_model import LinearRegression\n",
    "\n",
    "lin_reg = LinearRegression()\n",
    "\n",
    "lin_reg.fit(X,y)\n",
    "\n",
    "lin_reg.coef_ , lin_reg.intercept_\n",
    "\n"
   ]
  },
  {
   "cell_type": "code",
   "execution_count": 14,
   "id": "25ea6534",
   "metadata": {
    "execution": {
     "iopub.execute_input": "2025-09-05T04:48:14.024904Z",
     "iopub.status.busy": "2025-09-05T04:48:14.024044Z",
     "iopub.status.idle": "2025-09-05T04:48:14.029177Z",
     "shell.execute_reply": "2025-09-05T04:48:14.028388Z"
    },
    "papermill": {
     "duration": 0.021823,
     "end_time": "2025-09-05T04:48:14.030440",
     "exception": false,
     "start_time": "2025-09-05T04:48:14.008617",
     "status": "completed"
    },
    "tags": []
   },
   "outputs": [
    {
     "data": {
      "text/plain": [
       "3232"
      ]
     },
     "execution_count": 14,
     "metadata": {},
     "output_type": "execute_result"
    }
   ],
   "source": [
    " 3232"
   ]
  },
  {
   "cell_type": "code",
   "execution_count": 15,
   "id": "0f0a0a9d",
   "metadata": {
    "execution": {
     "iopub.execute_input": "2025-09-05T04:48:14.061096Z",
     "iopub.status.busy": "2025-09-05T04:48:14.060641Z",
     "iopub.status.idle": "2025-09-05T04:48:14.065091Z",
     "shell.execute_reply": "2025-09-05T04:48:14.064217Z"
    },
    "papermill": {
     "duration": 0.021203,
     "end_time": "2025-09-05T04:48:14.066481",
     "exception": false,
     "start_time": "2025-09-05T04:48:14.045278",
     "status": "completed"
    },
    "tags": []
   },
   "outputs": [],
   "source": [
    "eta = 0.1 \n",
    "n_epochs = 1000 \n",
    "m = len(X_b)"
   ]
  },
  {
   "cell_type": "code",
   "execution_count": 16,
   "id": "2e77c675",
   "metadata": {
    "execution": {
     "iopub.execute_input": "2025-09-05T04:48:14.098023Z",
     "iopub.status.busy": "2025-09-05T04:48:14.097409Z",
     "iopub.status.idle": "2025-09-05T04:48:14.101693Z",
     "shell.execute_reply": "2025-09-05T04:48:14.101053Z"
    },
    "papermill": {
     "duration": 0.022102,
     "end_time": "2025-09-05T04:48:14.103234",
     "exception": false,
     "start_time": "2025-09-05T04:48:14.081132",
     "status": "completed"
    },
    "tags": []
   },
   "outputs": [],
   "source": [
    "np.random.seed(42)\n",
    "theta = np.random.randn(2,1)\n"
   ]
  },
  {
   "cell_type": "code",
   "execution_count": 17,
   "id": "f00e58ad",
   "metadata": {
    "execution": {
     "iopub.execute_input": "2025-09-05T04:48:14.134588Z",
     "iopub.status.busy": "2025-09-05T04:48:14.134279Z",
     "iopub.status.idle": "2025-09-05T04:48:14.149276Z",
     "shell.execute_reply": "2025-09-05T04:48:14.148571Z"
    },
    "papermill": {
     "duration": 0.032255,
     "end_time": "2025-09-05T04:48:14.150714",
     "exception": false,
     "start_time": "2025-09-05T04:48:14.118459",
     "status": "completed"
    },
    "tags": []
   },
   "outputs": [],
   "source": [
    " for  epoch in range(n_epochs):\n",
    "     gradient = 2/m * X_b.T@(X_b @ theta - y)\n",
    "     theta = theta - eta*gradient"
   ]
  },
  {
   "cell_type": "code",
   "execution_count": 18,
   "id": "43507b66",
   "metadata": {
    "execution": {
     "iopub.execute_input": "2025-09-05T04:48:14.180905Z",
     "iopub.status.busy": "2025-09-05T04:48:14.180552Z",
     "iopub.status.idle": "2025-09-05T04:48:14.186668Z",
     "shell.execute_reply": "2025-09-05T04:48:14.185832Z"
    },
    "papermill": {
     "duration": 0.022946,
     "end_time": "2025-09-05T04:48:14.188230",
     "exception": false,
     "start_time": "2025-09-05T04:48:14.165284",
     "status": "completed"
    },
    "tags": []
   },
   "outputs": [
    {
     "data": {
      "text/plain": [
       "((2, 1), (2, 100), (100, 2), (100, 1), (2, 1))"
      ]
     },
     "execution_count": 18,
     "metadata": {},
     "output_type": "execute_result"
    }
   ],
   "source": [
    "theta.shape , X_b.T.shape , X_b.shape , (X_b @ theta).shape , (X_b.T@(X_b @ theta)).shape"
   ]
  },
  {
   "cell_type": "code",
   "execution_count": 19,
   "id": "1e2d2e6a",
   "metadata": {
    "execution": {
     "iopub.execute_input": "2025-09-05T04:48:14.218966Z",
     "iopub.status.busy": "2025-09-05T04:48:14.218628Z",
     "iopub.status.idle": "2025-09-05T04:48:14.224309Z",
     "shell.execute_reply": "2025-09-05T04:48:14.223591Z"
    },
    "papermill": {
     "duration": 0.022502,
     "end_time": "2025-09-05T04:48:14.225559",
     "exception": false,
     "start_time": "2025-09-05T04:48:14.203057",
     "status": "completed"
    },
    "tags": []
   },
   "outputs": [
    {
     "data": {
      "text/plain": [
       "array([[4.21509616],\n",
       "       [2.77011339]])"
      ]
     },
     "execution_count": 19,
     "metadata": {},
     "output_type": "execute_result"
    }
   ],
   "source": [
    "theta"
   ]
  },
  {
   "cell_type": "code",
   "execution_count": 20,
   "id": "79646abc",
   "metadata": {
    "execution": {
     "iopub.execute_input": "2025-09-05T04:48:14.255886Z",
     "iopub.status.busy": "2025-09-05T04:48:14.255542Z",
     "iopub.status.idle": "2025-09-05T04:48:14.330510Z",
     "shell.execute_reply": "2025-09-05T04:48:14.329569Z"
    },
    "papermill": {
     "duration": 0.092017,
     "end_time": "2025-09-05T04:48:14.332216",
     "exception": false,
     "start_time": "2025-09-05T04:48:14.240199",
     "status": "completed"
    },
    "tags": []
   },
   "outputs": [],
   "source": [
    "n_epochs = 50\n",
    "t0, t1 = 5, 50 # learning schedule hyperparameters\n",
    "def learning_schedule(t):\n",
    "    return t0 / (t + t1)\n",
    "np.random.seed(42)\n",
    "theta = np.random.randn(2, 1) # random initialization\n",
    "for epoch in range(n_epochs):\n",
    "    for iteration in range(m):\n",
    "        random_index = np.random.randint(m)\n",
    "        xi = X_b[random_index : random_index + 1]\n",
    "        yi = y[random_index : random_index + 1]\n",
    "        gradients = 2 * xi.T @ (xi @ theta - yi) # for SGD, do not divide by m\n",
    "        eta = learning_schedule(epoch * m + iteration)\n",
    "        theta = theta - eta * gradients"
   ]
  },
  {
   "cell_type": "code",
   "execution_count": 21,
   "id": "701ecb75",
   "metadata": {
    "execution": {
     "iopub.execute_input": "2025-09-05T04:48:14.362918Z",
     "iopub.status.busy": "2025-09-05T04:48:14.362604Z",
     "iopub.status.idle": "2025-09-05T04:48:14.367793Z",
     "shell.execute_reply": "2025-09-05T04:48:14.367062Z"
    },
    "papermill": {
     "duration": 0.021925,
     "end_time": "2025-09-05T04:48:14.369117",
     "exception": false,
     "start_time": "2025-09-05T04:48:14.347192",
     "status": "completed"
    },
    "tags": []
   },
   "outputs": [
    {
     "data": {
      "text/plain": [
       "array([[4.21076011],\n",
       "       [2.74856079]])"
      ]
     },
     "execution_count": 21,
     "metadata": {},
     "output_type": "execute_result"
    }
   ],
   "source": [
    "theta"
   ]
  },
  {
   "cell_type": "code",
   "execution_count": 22,
   "id": "603dc282",
   "metadata": {
    "execution": {
     "iopub.execute_input": "2025-09-05T04:48:14.400434Z",
     "iopub.status.busy": "2025-09-05T04:48:14.400123Z",
     "iopub.status.idle": "2025-09-05T04:48:14.404222Z",
     "shell.execute_reply": "2025-09-05T04:48:14.403423Z"
    },
    "papermill": {
     "duration": 0.021371,
     "end_time": "2025-09-05T04:48:14.405573",
     "exception": false,
     "start_time": "2025-09-05T04:48:14.384202",
     "status": "completed"
    },
    "tags": []
   },
   "outputs": [],
   "source": [
    "from sklearn.linear_model import SGDRegressor\n"
   ]
  },
  {
   "cell_type": "code",
   "execution_count": 23,
   "id": "87058775",
   "metadata": {
    "execution": {
     "iopub.execute_input": "2025-09-05T04:48:14.436006Z",
     "iopub.status.busy": "2025-09-05T04:48:14.435691Z",
     "iopub.status.idle": "2025-09-05T04:48:14.440299Z",
     "shell.execute_reply": "2025-09-05T04:48:14.439643Z"
    },
    "papermill": {
     "duration": 0.021342,
     "end_time": "2025-09-05T04:48:14.441575",
     "exception": false,
     "start_time": "2025-09-05T04:48:14.420233",
     "status": "completed"
    },
    "tags": []
   },
   "outputs": [],
   "source": [
    "np.random.seed(42)\n",
    "m = 100\n",
    "X = 6 * np.random.rand(m, 1) - 3\n",
    "y = 0.5 * X ** 2 + X + 2 + np.random.randn(m, 1)"
   ]
  },
  {
   "cell_type": "code",
   "execution_count": 24,
   "id": "ca819620",
   "metadata": {
    "execution": {
     "iopub.execute_input": "2025-09-05T04:48:14.472500Z",
     "iopub.status.busy": "2025-09-05T04:48:14.472238Z",
     "iopub.status.idle": "2025-09-05T04:48:14.636925Z",
     "shell.execute_reply": "2025-09-05T04:48:14.635942Z"
    },
    "papermill": {
     "duration": 0.181966,
     "end_time": "2025-09-05T04:48:14.638583",
     "exception": false,
     "start_time": "2025-09-05T04:48:14.456617",
     "status": "completed"
    },
    "tags": []
   },
   "outputs": [
    {
     "data": {
      "text/plain": [
       "<matplotlib.collections.PathCollection at 0x7cd0c3575150>"
      ]
     },
     "execution_count": 24,
     "metadata": {},
     "output_type": "execute_result"
    },
    {
     "data": {
      "image/png": "[encoded data removed]",
      "text/plain": [
       "<Figure size 640x480 with 1 Axes>"
      ]
     },
     "metadata": {},
     "output_type": "display_data"
    }
   ],
   "source": [
    "plt.scatter(X,y)"
   ]
  },
  {
   "cell_type": "code",
   "execution_count": 25,
   "id": "43891246",
   "metadata": {
    "execution": {
     "iopub.execute_input": "2025-09-05T04:48:14.671935Z",
     "iopub.status.busy": "2025-09-05T04:48:14.671183Z",
     "iopub.status.idle": "2025-09-05T04:48:14.676202Z",
     "shell.execute_reply": "2025-09-05T04:48:14.675442Z"
    },
    "papermill": {
     "duration": 0.02281,
     "end_time": "2025-09-05T04:48:14.677506",
     "exception": false,
     "start_time": "2025-09-05T04:48:14.654696",
     "status": "completed"
    },
    "tags": []
   },
   "outputs": [],
   "source": [
    "from sklearn.preprocessing import PolynomialFeatures\n",
    "poly_feature = PolynomialFeatures(degree = 2 , include_bias = False)\n",
    "X_poly = poly_feature.fit_transform(X,y)"
   ]
  },
  {
   "cell_type": "code",
   "execution_count": 26,
   "id": "f116e755",
   "metadata": {
    "execution": {
     "iopub.execute_input": "2025-09-05T04:48:14.709155Z",
     "iopub.status.busy": "2025-09-05T04:48:14.708834Z",
     "iopub.status.idle": "2025-09-05T04:48:14.714487Z",
     "shell.execute_reply": "2025-09-05T04:48:14.713689Z"
    },
    "papermill": {
     "duration": 0.023201,
     "end_time": "2025-09-05T04:48:14.715948",
     "exception": false,
     "start_time": "2025-09-05T04:48:14.692747",
     "status": "completed"
    },
    "tags": []
   },
   "outputs": [
    {
     "data": {
      "text/plain": [
       "(array([-0.75275929]), array([-0.75275929,  0.56664654]))"
      ]
     },
     "execution_count": 26,
     "metadata": {},
     "output_type": "execute_result"
    }
   ],
   "source": [
    " X[0], X_poly[0]"
   ]
  },
  {
   "cell_type": "code",
   "execution_count": 27,
   "id": "086a91ca",
   "metadata": {
    "execution": {
     "iopub.execute_input": "2025-09-05T04:48:14.748305Z",
     "iopub.status.busy": "2025-09-05T04:48:14.747471Z",
     "iopub.status.idle": "2025-09-05T04:48:14.762250Z",
     "shell.execute_reply": "2025-09-05T04:48:14.761537Z"
    },
    "papermill": {
     "duration": 0.032254,
     "end_time": "2025-09-05T04:48:14.763484",
     "exception": false,
     "start_time": "2025-09-05T04:48:14.731230",
     "status": "completed"
    },
    "tags": []
   },
   "outputs": [
    {
     "data": {
      "text/plain": [
       "(array([1.78134581]), array([[0.93366893, 0.56456263]]))"
      ]
     },
     "execution_count": 27,
     "metadata": {},
     "output_type": "execute_result"
    }
   ],
   "source": [
    "lin_reg = LinearRegression()\n",
    "lin_reg.fit(X_poly , y)\n",
    "\n",
    "lin_reg.intercept_, lin_reg.coef_\n"
   ]
  },
  {
   "cell_type": "code",
   "execution_count": 28,
   "id": "36154bd3",
   "metadata": {
    "execution": {
     "iopub.execute_input": "2025-09-05T04:48:14.795049Z",
     "iopub.status.busy": "2025-09-05T04:48:14.794709Z",
     "iopub.status.idle": "2025-09-05T04:48:15.175631Z",
     "shell.execute_reply": "2025-09-05T04:48:15.174798Z"
    },
    "papermill": {
     "duration": 0.398506,
     "end_time": "2025-09-05T04:48:15.177235",
     "exception": false,
     "start_time": "2025-09-05T04:48:14.778729",
     "status": "completed"
    },
    "tags": []
   },
   "outputs": [
    {
     "data": {
      "image/png": "[encoded data removed]",
      "text/plain": [
       "<Figure size 640x480 with 1 Axes>"
      ]
     },
     "metadata": {},
     "output_type": "display_data"
    }
   ],
   "source": [
    " from sklearn.model_selection import learning_curve\n",
    "train_sizes, train_scores, valid_scores = learning_curve(\n",
    "LinearRegression(), X, y, train_sizes=np.linspace(0.01, 1.0, 40), cv=5,\n",
    "scoring=\"neg_root_mean_squared_error\")\n",
    "train_errors = -train_scores.mean(axis=1)\n",
    "valid_errors = -valid_scores.mean(axis=1)\n",
    "plt.plot(train_sizes, train_errors, \"r-+\", linewidth=2, label=\"train\")\n",
    "plt.plot(train_sizes, valid_errors, \"b-\", linewidth=3, label=\"valid\")\n",
    "\n",
    "# beautify the figure: add labels, axis, grid, and legend\n",
    "plt.show()"
   ]
  },
  {
   "cell_type": "code",
   "execution_count": 29,
   "id": "6e990446",
   "metadata": {
    "execution": {
     "iopub.execute_input": "2025-09-05T04:48:15.210169Z",
     "iopub.status.busy": "2025-09-05T04:48:15.209835Z",
     "iopub.status.idle": "2025-09-05T04:48:15.222708Z",
     "shell.execute_reply": "2025-09-05T04:48:15.221939Z"
    },
    "papermill": {
     "duration": 0.030932,
     "end_time": "2025-09-05T04:48:15.224364",
     "exception": false,
     "start_time": "2025-09-05T04:48:15.193432",
     "status": "completed"
    },
    "tags": []
   },
   "outputs": [],
   "source": [
    "from sklearn.pipeline import make_pipeline\n",
    "\n",
    "polynomial_regression = make_pipeline(PolynomialFeatures(degree=10 , include_bias = False) , \n",
    "                                     LinearRegression())"
   ]
  },
  {
   "cell_type": "code",
   "execution_count": 30,
   "id": "65eab3ce",
   "metadata": {
    "execution": {
     "iopub.execute_input": "2025-09-05T04:48:15.257600Z",
     "iopub.status.busy": "2025-09-05T04:48:15.257309Z",
     "iopub.status.idle": "2025-09-05T04:48:15.715115Z",
     "shell.execute_reply": "2025-09-05T04:48:15.714222Z"
    },
    "papermill": {
     "duration": 0.476057,
     "end_time": "2025-09-05T04:48:15.716669",
     "exception": false,
     "start_time": "2025-09-05T04:48:15.240612",
     "status": "completed"
    },
    "tags": []
   },
   "outputs": [],
   "source": [
    "train_sizes, train_scores, valid_scores= learning_curve(polynomial_regression , X, y , train_sizes = np.linspace(0.01,1.0,40) ,cv = 5 ,\n",
    "              scoring = 'neg_root_mean_squared_error')"
   ]
  },
  {
   "cell_type": "code",
   "execution_count": 31,
   "id": "f9ba31b3",
   "metadata": {
    "execution": {
     "iopub.execute_input": "2025-09-05T04:48:15.748922Z",
     "iopub.status.busy": "2025-09-05T04:48:15.748609Z",
     "iopub.status.idle": "2025-09-05T04:48:15.906250Z",
     "shell.execute_reply": "2025-09-05T04:48:15.905376Z"
    },
    "papermill": {
     "duration": 0.175583,
     "end_time": "2025-09-05T04:48:15.907863",
     "exception": false,
     "start_time": "2025-09-05T04:48:15.732280",
     "status": "completed"
    },
    "tags": []
   },
   "outputs": [
    {
     "data": {
      "text/plain": [
       "[<matplotlib.lines.Line2D at 0x7cd0c19018d0>]"
      ]
     },
     "execution_count": 31,
     "metadata": {},
     "output_type": "execute_result"
    },
    {
     "data": {
      "image/png": "[encoded data removed]",
      "text/plain": [
       "<Figure size 640x480 with 1 Axes>"
      ]
     },
     "metadata": {},
     "output_type": "display_data"
    }
   ],
   "source": [
    "train_errors = -train_scores.mean(axis=1)\n",
    "valid_errors = -valid_scores.mean(axis=1)\n",
    "plt.plot(train_sizes, train_errors, \"r-+\", linewidth=2, label=\"train\")\n",
    "plt.plot(train_sizes, valid_errors, \"b-\", linewidth=3, label=\"valid\")\n",
    "\n"
   ]
  },
  {
   "cell_type": "markdown",
   "id": "33b56c44",
   "metadata": {
    "papermill": {
     "duration": 0.015658,
     "end_time": "2025-09-05T04:48:15.939738",
     "exception": false,
     "start_time": "2025-09-05T04:48:15.924080",
     "status": "completed"
    },
    "tags": []
   },
   "source": [
    "##### Bias\n",
    "This part of the generalization error is due to wrong assumptions,\n",
    "such as assuming that the data is linear when it is actually quadratic.\n",
    "A high-bias model is most likely to underfit the training data.\n",
    "##### Variance\n",
    "This part is due to the model’s excessive sensitivity to small\n",
    "variations in the training data. A model with many degrees of\n",
    "freedom (such as a high-degree polynomial model) is likely to have\n",
    "high variance and thus overfit the training data.\n",
    "\n",
    "##### Regularized Linear Models\n",
    "a good way to reduce overfitting is to\n",
    "regularize the model (i.e., to constrain it): the fewer degrees of freedom it\n",
    "has, the harder it will be for it to overfit the data. A simple way to regularize\n",
    "a polynomial model is to reduce the number of polynomial degrees."
   ]
  },
  {
   "cell_type": "code",
   "execution_count": 32,
   "id": "39f73c85",
   "metadata": {
    "execution": {
     "iopub.execute_input": "2025-09-05T04:48:15.973047Z",
     "iopub.status.busy": "2025-09-05T04:48:15.972392Z",
     "iopub.status.idle": "2025-09-05T04:48:15.982593Z",
     "shell.execute_reply": "2025-09-05T04:48:15.981810Z"
    },
    "papermill": {
     "duration": 0.028269,
     "end_time": "2025-09-05T04:48:15.983953",
     "exception": false,
     "start_time": "2025-09-05T04:48:15.955684",
     "status": "completed"
    },
    "tags": []
   },
   "outputs": [
    {
     "data": {
      "text/plain": [
       "array([[4.82899748]])"
      ]
     },
     "execution_count": 32,
     "metadata": {},
     "output_type": "execute_result"
    }
   ],
   "source": [
    " # Here is how to perform ridge regression with Scikit-Learn using a closedform solution (a variant of Equation 4-9 that uses a matrix factorization\n",
    "# technique by André-Louis Cholesky):\n",
    "from sklearn.linear_model import Ridge\n",
    "ridge_reg = Ridge(alpha=0.1, solver=\"cholesky\")\n",
    "ridge_reg.fit(X,y)\n",
    "ridge_reg.predict([[1.5]])\n"
   ]
  },
  {
   "cell_type": "code",
   "execution_count": 33,
   "id": "4a015cda",
   "metadata": {
    "execution": {
     "iopub.execute_input": "2025-09-05T04:48:16.017362Z",
     "iopub.status.busy": "2025-09-05T04:48:16.016554Z",
     "iopub.status.idle": "2025-09-05T04:48:16.032659Z",
     "shell.execute_reply": "2025-09-05T04:48:16.032004Z"
    },
    "papermill": {
     "duration": 0.034119,
     "end_time": "2025-09-05T04:48:16.034127",
     "exception": false,
     "start_time": "2025-09-05T04:48:16.000008",
     "status": "completed"
    },
    "tags": []
   },
   "outputs": [
    {
     "data": {
      "text/plain": [
       "array([4.82830117])"
      ]
     },
     "execution_count": 33,
     "metadata": {},
     "output_type": "execute_result"
    }
   ],
   "source": [
    "# And using stochastic gradient descent:\n",
    "sgd_reg = SGDRegressor(penalty=\"l2\", alpha=0.1 / m, tol=None, max_iter=1000, eta0=0.01, random_state=42)\n",
    "sgd_reg.fit(X, y.ravel()) # y.ravel() because fit() expects 1D targets\n",
    "sgd_reg.predict([[1.5]])\n",
    " "
   ]
  },
  {
   "cell_type": "code",
   "execution_count": 34,
   "id": "97c656e5",
   "metadata": {
    "execution": {
     "iopub.execute_input": "2025-09-05T04:48:16.067476Z",
     "iopub.status.busy": "2025-09-05T04:48:16.067181Z",
     "iopub.status.idle": "2025-09-05T04:48:16.077591Z",
     "shell.execute_reply": "2025-09-05T04:48:16.076914Z"
    },
    "papermill": {
     "duration": 0.028838,
     "end_time": "2025-09-05T04:48:16.079164",
     "exception": false,
     "start_time": "2025-09-05T04:48:16.050326",
     "status": "completed"
    },
    "tags": []
   },
   "outputs": [
    {
     "data": {
      "text/plain": [
       "array([4.77621741])"
      ]
     },
     "execution_count": 34,
     "metadata": {},
     "output_type": "execute_result"
    }
   ],
   "source": [
    "from sklearn.linear_model import Lasso\n",
    "lasso_reg = Lasso(alpha=0.1)\n",
    "lasso_reg.fit(X,y)\n",
    "lasso_reg.predict([[1.5]])"
   ]
  },
  {
   "cell_type": "code",
   "execution_count": 35,
   "id": "89172e56",
   "metadata": {
    "execution": {
     "iopub.execute_input": "2025-09-05T04:48:16.113407Z",
     "iopub.status.busy": "2025-09-05T04:48:16.112596Z",
     "iopub.status.idle": "2025-09-05T04:48:16.130660Z",
     "shell.execute_reply": "2025-09-05T04:48:16.129673Z"
    },
    "papermill": {
     "duration": 0.036644,
     "end_time": "2025-09-05T04:48:16.132128",
     "exception": false,
     "start_time": "2025-09-05T04:48:16.095484",
     "status": "completed"
    },
    "tags": []
   },
   "outputs": [
    {
     "name": "stderr",
     "output_type": "stream",
     "text": [
      "/usr/local/lib/python3.11/dist-packages/sklearn/utils/validation.py:1143: DataConversionWarning: A column-vector y was passed when a 1d array was expected. Please change the shape of y to (n_samples, ), for example using ravel().\n",
      "  y = column_or_1d(y, warn=True)\n"
     ]
    },
    {
     "data": {
      "text/plain": [
       "array([4.77557733])"
      ]
     },
     "execution_count": 35,
     "metadata": {},
     "output_type": "execute_result"
    }
   ],
   "source": [
    "sgd_reg = SGDRegressor(penalty = 'l1' , alpha = 0.1 , tol=None, max_iter=1000, eta0=0.01, random_state=42)\n",
    "sgd_reg.fit(X,y)\n",
    "sgd_reg.predict([[1.5]])"
   ]
  },
  {
   "cell_type": "markdown",
   "id": "e58ea3a1",
   "metadata": {
    "papermill": {
     "duration": 0.015873,
     "end_time": "2025-09-05T04:48:16.164768",
     "exception": false,
     "start_time": "2025-09-05T04:48:16.148895",
     "status": "completed"
    },
    "tags": []
   },
   "source": [
    "Elastic net regression is a middle ground between ridge regression and lasso\n",
    "regression. The regularization term is a weighted sum of both ridge and\n",
    "lasso’s regularization terms, and you can control the mix ratio r. When r = 0,\n",
    "elastic net is equivalent to ridge regression, and when r = 1, it is equivalent to\n",
    "lasso regression"
   ]
  },
  {
   "cell_type": "markdown",
   "id": "8d9ff052",
   "metadata": {
    "papermill": {
     "duration": 0.015785,
     "end_time": "2025-09-05T04:48:16.196680",
     "exception": false,
     "start_time": "2025-09-05T04:48:16.180895",
     "status": "completed"
    },
    "tags": []
   },
   "source": [
    "So when should you use elastic net regression, or ridge, lasso, or plain linear\n",
    "regression (i.e., without any regularization)? It is almost always preferable to\n",
    "have at least a little bit of regularization, so generally you should avoid plain\n",
    "linear regression. Ridge is a good default, but if you suspect that only a few\n",
    "features are useful, you should prefer lasso or elastic net because they tend to\n",
    "reduce the useless features’ weights down to zero, as discussed earlier. In\n",
    "general, elastic net is preferred over lasso because lasso may behave\n",
    "erratically when the number of features is greater than the number of training\n",
    "instances or when several features are strongly correlated.\n"
   ]
  },
  {
   "cell_type": "code",
   "execution_count": 36,
   "id": "ec92a56b",
   "metadata": {
    "execution": {
     "iopub.execute_input": "2025-09-05T04:48:16.229831Z",
     "iopub.status.busy": "2025-09-05T04:48:16.229534Z",
     "iopub.status.idle": "2025-09-05T04:48:16.237663Z",
     "shell.execute_reply": "2025-09-05T04:48:16.236829Z"
    },
    "papermill": {
     "duration": 0.026239,
     "end_time": "2025-09-05T04:48:16.239001",
     "exception": false,
     "start_time": "2025-09-05T04:48:16.212762",
     "status": "completed"
    },
    "tags": []
   },
   "outputs": [
    {
     "data": {
      "text/plain": [
       "array([4.78114505])"
      ]
     },
     "execution_count": 36,
     "metadata": {},
     "output_type": "execute_result"
    }
   ],
   "source": [
    "from sklearn.linear_model import ElasticNet\n",
    "elastic_net = ElasticNet(alpha = 0.1 , l1_ratio = 0.5)\n",
    "elastic_net.fit(X,y)\n",
    "elastic_net.predict([[1.5]])"
   ]
  },
  {
   "cell_type": "code",
   "execution_count": 37,
   "id": "86adf765",
   "metadata": {
    "execution": {
     "iopub.execute_input": "2025-09-05T04:48:16.272456Z",
     "iopub.status.busy": "2025-09-05T04:48:16.272187Z",
     "iopub.status.idle": "2025-09-05T04:48:16.276307Z",
     "shell.execute_reply": "2025-09-05T04:48:16.275602Z"
    },
    "papermill": {
     "duration": 0.022266,
     "end_time": "2025-09-05T04:48:16.277551",
     "exception": false,
     "start_time": "2025-09-05T04:48:16.255285",
     "status": "completed"
    },
    "tags": []
   },
   "outputs": [],
   "source": [
    "# from copy import deepcopy\n",
    "# from sklearn.metrics import mean_squared_error\n",
    "# from sklearn.preprocessing import StandardScaler\n",
    "# ## Here is a basic implementation of early stopping:\n",
    "# X_train , X_valid , y_train , y_valid = X[:80] , X[80:] , y[:80] , y[80:]\n",
    "\n",
    "# preprocessing = make_pipeline(PolynomialFeatures(degree = 90 ,include_bias = False),\n",
    "#                               StandardScaler())\n",
    "# X_train_prep = preprocessing.fit_transform(X_train)\n",
    "# X_valid_prep = preprocessing.transform(X_valid)\n",
    "\n",
    "# sgd_reg = SGDRegressor(penalty= None , eta0 = 0.002 , random_state = 42)\n",
    "# n_epochs = 500\n",
    "# best_valid_rsme = float('inf')\n",
    "\n",
    "\n",
    "# for epoch in range(n_epochs):\n",
    "#     sgd_reg.partial_fit(X_train , y_train)\n",
    "#     y_valid_predict =  sgd_reg.predict(X_valid_prep)\n",
    "#     val_error = mean_squared_error(y_valid, y_valid_predict, squared=False)\n",
    "#     if val_error < best_valid_rmse:\n",
    "#         best_valid_rmse = val_error\n",
    "#         best_model = deepcopy(sgd_reg)\n",
    "        "
   ]
  },
  {
   "cell_type": "code",
   "execution_count": 38,
   "id": "d4e706b2",
   "metadata": {
    "execution": {
     "iopub.execute_input": "2025-09-05T04:48:16.312363Z",
     "iopub.status.busy": "2025-09-05T04:48:16.312072Z",
     "iopub.status.idle": "2025-09-05T04:48:16.425165Z",
     "shell.execute_reply": "2025-09-05T04:48:16.424461Z"
    },
    "papermill": {
     "duration": 0.132735,
     "end_time": "2025-09-05T04:48:16.426796",
     "exception": false,
     "start_time": "2025-09-05T04:48:16.294061",
     "status": "completed"
    },
    "tags": []
   },
   "outputs": [],
   "source": [
    "from sklearn.datasets import load_iris\n",
    "iris = load_iris(as_frame=True)"
   ]
  },
  {
   "cell_type": "code",
   "execution_count": 39,
   "id": "cb0c313d",
   "metadata": {
    "execution": {
     "iopub.execute_input": "2025-09-05T04:48:16.461210Z",
     "iopub.status.busy": "2025-09-05T04:48:16.460652Z",
     "iopub.status.idle": "2025-09-05T04:48:16.465991Z",
     "shell.execute_reply": "2025-09-05T04:48:16.465301Z"
    },
    "papermill": {
     "duration": 0.023793,
     "end_time": "2025-09-05T04:48:16.467198",
     "exception": false,
     "start_time": "2025-09-05T04:48:16.443405",
     "status": "completed"
    },
    "tags": []
   },
   "outputs": [
    {
     "data": {
      "text/plain": [
       "['data',\n",
       " 'target',\n",
       " 'frame',\n",
       " 'target_names',\n",
       " 'DESCR',\n",
       " 'feature_names',\n",
       " 'filename',\n",
       " 'data_module']"
      ]
     },
     "execution_count": 39,
     "metadata": {},
     "output_type": "execute_result"
    }
   ],
   "source": [
    "list(iris)"
   ]
  },
  {
   "cell_type": "code",
   "execution_count": 40,
   "id": "c7539495",
   "metadata": {
    "execution": {
     "iopub.execute_input": "2025-09-05T04:48:16.502505Z",
     "iopub.status.busy": "2025-09-05T04:48:16.501859Z",
     "iopub.status.idle": "2025-09-05T04:48:16.505535Z",
     "shell.execute_reply": "2025-09-05T04:48:16.504726Z"
    },
    "papermill": {
     "duration": 0.022504,
     "end_time": "2025-09-05T04:48:16.506814",
     "exception": false,
     "start_time": "2025-09-05T04:48:16.484310",
     "status": "completed"
    },
    "tags": []
   },
   "outputs": [],
   "source": [
    "# iris.data\n",
    "# iris.target\n",
    "# iris.target_names[iris.target]"
   ]
  },
  {
   "cell_type": "code",
   "execution_count": 41,
   "id": "d617ace1",
   "metadata": {
    "execution": {
     "iopub.execute_input": "2025-09-05T04:48:16.542405Z",
     "iopub.status.busy": "2025-09-05T04:48:16.541652Z",
     "iopub.status.idle": "2025-09-05T04:48:16.561073Z",
     "shell.execute_reply": "2025-09-05T04:48:16.560253Z"
    },
    "papermill": {
     "duration": 0.037999,
     "end_time": "2025-09-05T04:48:16.562495",
     "exception": false,
     "start_time": "2025-09-05T04:48:16.524496",
     "status": "completed"
    },
    "tags": []
   },
   "outputs": [
    {
     "data": {
      "text/html": [
       "<div>\n",
       "<style scoped>\n",
       "    .dataframe tbody tr th:only-of-type {\n",
       "        vertical-align: middle;\n",
       "    }\n",
       "\n",
       "    .dataframe tbody tr th {\n",
       "        vertical-align: top;\n",
       "    }\n",
       "\n",
       "    .dataframe thead th {\n",
       "        text-align: right;\n",
       "    }\n",
       "</style>\n",
       "<table border=\"1\" class=\"dataframe\">\n",
       "  <thead>\n",
       "    <tr style=\"text-align: right;\">\n",
       "      <th></th>\n",
       "      <th>sepal length (cm)</th>\n",
       "      <th>sepal width (cm)</th>\n",
       "      <th>petal length (cm)</th>\n",
       "      <th>petal width (cm)</th>\n",
       "    </tr>\n",
       "  </thead>\n",
       "  <tbody>\n",
       "    <tr>\n",
       "      <th>0</th>\n",
       "      <td>5.1</td>\n",
       "      <td>3.5</td>\n",
       "      <td>1.4</td>\n",
       "      <td>0.2</td>\n",
       "    </tr>\n",
       "    <tr>\n",
       "      <th>1</th>\n",
       "      <td>4.9</td>\n",
       "      <td>3.0</td>\n",
       "      <td>1.4</td>\n",
       "      <td>0.2</td>\n",
       "    </tr>\n",
       "    <tr>\n",
       "      <th>2</th>\n",
       "      <td>4.7</td>\n",
       "      <td>3.2</td>\n",
       "      <td>1.3</td>\n",
       "      <td>0.2</td>\n",
       "    </tr>\n",
       "  </tbody>\n",
       "</table>\n",
       "</div>"
      ],
      "text/plain": [
       "   sepal length (cm)  sepal width (cm)  petal length (cm)  petal width (cm)\n",
       "0                5.1               3.5                1.4               0.2\n",
       "1                4.9               3.0                1.4               0.2\n",
       "2                4.7               3.2                1.3               0.2"
      ]
     },
     "execution_count": 41,
     "metadata": {},
     "output_type": "execute_result"
    }
   ],
   "source": [
    "iris.data.head(3)"
   ]
  },
  {
   "cell_type": "code",
   "execution_count": 42,
   "id": "608acd08",
   "metadata": {
    "execution": {
     "iopub.execute_input": "2025-09-05T04:48:16.597563Z",
     "iopub.status.busy": "2025-09-05T04:48:16.596648Z",
     "iopub.status.idle": "2025-09-05T04:48:16.602681Z",
     "shell.execute_reply": "2025-09-05T04:48:16.601545Z"
    },
    "papermill": {
     "duration": 0.02472,
     "end_time": "2025-09-05T04:48:16.604098",
     "exception": false,
     "start_time": "2025-09-05T04:48:16.579378",
     "status": "completed"
    },
    "tags": []
   },
   "outputs": [
    {
     "data": {
      "text/plain": [
       "array(['setosa', 'versicolor', 'virginica'], dtype='<U10')"
      ]
     },
     "execution_count": 42,
     "metadata": {},
     "output_type": "execute_result"
    }
   ],
   "source": [
    "iris.target_names"
   ]
  },
  {
   "cell_type": "code",
   "execution_count": 43,
   "id": "ea1cb3e2",
   "metadata": {
    "execution": {
     "iopub.execute_input": "2025-09-05T04:48:16.639082Z",
     "iopub.status.busy": "2025-09-05T04:48:16.638665Z",
     "iopub.status.idle": "2025-09-05T04:48:16.642725Z",
     "shell.execute_reply": "2025-09-05T04:48:16.642102Z"
    },
    "papermill": {
     "duration": 0.02314,
     "end_time": "2025-09-05T04:48:16.644129",
     "exception": false,
     "start_time": "2025-09-05T04:48:16.620989",
     "status": "completed"
    },
    "tags": []
   },
   "outputs": [],
   "source": [
    "from sklearn.linear_model import LogisticRegression\n",
    "from sklearn.model_selection import train_test_split\n",
    "\n"
   ]
  },
  {
   "cell_type": "code",
   "execution_count": 44,
   "id": "4a6dfc9a",
   "metadata": {
    "execution": {
     "iopub.execute_input": "2025-09-05T04:48:16.679089Z",
     "iopub.status.busy": "2025-09-05T04:48:16.678547Z",
     "iopub.status.idle": "2025-09-05T04:48:16.683597Z",
     "shell.execute_reply": "2025-09-05T04:48:16.682782Z"
    },
    "papermill": {
     "duration": 0.023948,
     "end_time": "2025-09-05T04:48:16.684980",
     "exception": false,
     "start_time": "2025-09-05T04:48:16.661032",
     "status": "completed"
    },
    "tags": []
   },
   "outputs": [],
   "source": [
    "X = iris.data[['petal width (cm)']].values "
   ]
  },
  {
   "cell_type": "code",
   "execution_count": 45,
   "id": "8e9a69e4",
   "metadata": {
    "execution": {
     "iopub.execute_input": "2025-09-05T04:48:16.721252Z",
     "iopub.status.busy": "2025-09-05T04:48:16.720918Z",
     "iopub.status.idle": "2025-09-05T04:48:16.725247Z",
     "shell.execute_reply": "2025-09-05T04:48:16.724454Z"
    },
    "papermill": {
     "duration": 0.024939,
     "end_time": "2025-09-05T04:48:16.726678",
     "exception": false,
     "start_time": "2025-09-05T04:48:16.701739",
     "status": "completed"
    },
    "tags": []
   },
   "outputs": [],
   "source": [
    "y = (iris.target_names[iris.target] == 'virginica')"
   ]
  },
  {
   "cell_type": "code",
   "execution_count": 46,
   "id": "227c661c",
   "metadata": {
    "execution": {
     "iopub.execute_input": "2025-09-05T04:48:16.761573Z",
     "iopub.status.busy": "2025-09-05T04:48:16.760687Z",
     "iopub.status.idle": "2025-09-05T04:48:16.766788Z",
     "shell.execute_reply": "2025-09-05T04:48:16.765933Z"
    },
    "papermill": {
     "duration": 0.024909,
     "end_time": "2025-09-05T04:48:16.768203",
     "exception": false,
     "start_time": "2025-09-05T04:48:16.743294",
     "status": "completed"
    },
    "tags": []
   },
   "outputs": [
    {
     "data": {
      "text/plain": [
       "((150, 1), (150,))"
      ]
     },
     "execution_count": 46,
     "metadata": {},
     "output_type": "execute_result"
    }
   ],
   "source": [
    "X.reshape(-1,1).shape , y.shape"
   ]
  },
  {
   "cell_type": "code",
   "execution_count": 47,
   "id": "31bcd191",
   "metadata": {
    "execution": {
     "iopub.execute_input": "2025-09-05T04:48:16.802719Z",
     "iopub.status.busy": "2025-09-05T04:48:16.802420Z",
     "iopub.status.idle": "2025-09-05T04:48:16.807282Z",
     "shell.execute_reply": "2025-09-05T04:48:16.806617Z"
    },
    "papermill": {
     "duration": 0.023718,
     "end_time": "2025-09-05T04:48:16.808547",
     "exception": false,
     "start_time": "2025-09-05T04:48:16.784829",
     "status": "completed"
    },
    "tags": []
   },
   "outputs": [],
   "source": [
    "X_train , X_test , y_train , y_test = train_test_split(X,y,random_state =42)"
   ]
  },
  {
   "cell_type": "code",
   "execution_count": 48,
   "id": "57fb1cc4",
   "metadata": {
    "execution": {
     "iopub.execute_input": "2025-09-05T04:48:16.844123Z",
     "iopub.status.busy": "2025-09-05T04:48:16.843770Z",
     "iopub.status.idle": "2025-09-05T04:48:16.866398Z",
     "shell.execute_reply": "2025-09-05T04:48:16.865674Z"
    },
    "papermill": {
     "duration": 0.042283,
     "end_time": "2025-09-05T04:48:16.868108",
     "exception": false,
     "start_time": "2025-09-05T04:48:16.825825",
     "status": "completed"
    },
    "tags": []
   },
   "outputs": [
    {
     "data": {
      "text/html": [
       "<style>#sk-container-id-1 {color: black;background-color: white;}#sk-container-id-1 pre{padding: 0;}#sk-container-id-1 div.sk-toggleable {background-color: white;}#sk-container-id-1 label.sk-toggleable__label {cursor: pointer;display: block;width: 100%;margin-bottom: 0;padding: 0.3em;box-sizing: border-box;text-align: center;}#sk-container-id-1 label.sk-toggleable__label-arrow:before {content: \"▸\";float: left;margin-right: 0.25em;color: #696969;}#sk-container-id-1 label.sk-toggleable__label-arrow:hover:before {color: black;}#sk-container-id-1 div.sk-estimator:hover label.sk-toggleable__label-arrow:before {color: black;}#sk-container-id-1 div.sk-toggleable__content {max-height: 0;max-width: 0;overflow: hidden;text-align: left;background-color: #f0f8ff;}#sk-container-id-1 div.sk-toggleable__content pre {margin: 0.2em;color: black;border-radius: 0.25em;background-color: #f0f8ff;}#sk-container-id-1 input.sk-toggleable__control:checked~div.sk-toggleable__content {max-height: 200px;max-width: 100%;overflow: auto;}#sk-container-id-1 input.sk-toggleable__control:checked~label.sk-toggleable__label-arrow:before {content: \"▾\";}#sk-container-id-1 div.sk-estimator input.sk-toggleable__control:checked~label.sk-toggleable__label {background-color: #d4ebff;}#sk-container-id-1 div.sk-label input.sk-toggleable__control:checked~label.sk-toggleable__label {background-color: #d4ebff;}#sk-container-id-1 input.sk-hidden--visually {border: 0;clip: rect(1px 1px 1px 1px);clip: rect(1px, 1px, 1px, 1px);height: 1px;margin: -1px;overflow: hidden;padding: 0;position: absolute;width: 1px;}#sk-container-id-1 div.sk-estimator {font-family: monospace;background-color: #f0f8ff;border: 1px dotted black;border-radius: 0.25em;box-sizing: border-box;margin-bottom: 0.5em;}#sk-container-id-1 div.sk-estimator:hover {background-color: #d4ebff;}#sk-container-id-1 div.sk-parallel-item::after {content: \"\";width: 100%;border-bottom: 1px solid gray;flex-grow: 1;}#sk-container-id-1 div.sk-label:hover label.sk-toggleable__label {background-color: #d4ebff;}#sk-container-id-1 div.sk-serial::before {content: \"\";position: absolute;border-left: 1px solid gray;box-sizing: border-box;top: 0;bottom: 0;left: 50%;z-index: 0;}#sk-container-id-1 div.sk-serial {display: flex;flex-direction: column;align-items: center;background-color: white;padding-right: 0.2em;padding-left: 0.2em;position: relative;}#sk-container-id-1 div.sk-item {position: relative;z-index: 1;}#sk-container-id-1 div.sk-parallel {display: flex;align-items: stretch;justify-content: center;background-color: white;position: relative;}#sk-container-id-1 div.sk-item::before, #sk-container-id-1 div.sk-parallel-item::before {content: \"\";position: absolute;border-left: 1px solid gray;box-sizing: border-box;top: 0;bottom: 0;left: 50%;z-index: -1;}#sk-container-id-1 div.sk-parallel-item {display: flex;flex-direction: column;z-index: 1;position: relative;background-color: white;}#sk-container-id-1 div.sk-parallel-item:first-child::after {align-self: flex-end;width: 50%;}#sk-container-id-1 div.sk-parallel-item:last-child::after {align-self: flex-start;width: 50%;}#sk-container-id-1 div.sk-parallel-item:only-child::after {width: 0;}#sk-container-id-1 div.sk-dashed-wrapped {border: 1px dashed gray;margin: 0 0.4em 0.5em 0.4em;box-sizing: border-box;padding-bottom: 0.4em;background-color: white;}#sk-container-id-1 div.sk-label label {font-family: monospace;font-weight: bold;display: inline-block;line-height: 1.2em;}#sk-container-id-1 div.sk-label-container {text-align: center;}#sk-container-id-1 div.sk-container {/* jupyter's `normalize.less` sets `[hidden] { display: none; }` but bootstrap.min.css set `[hidden] { display: none !important; }` so we also need the `!important` here to be able to override the default hidden behavior on the sphinx rendered scikit-learn.org. See: https://github.com/scikit-learn/scikit-learn/issues/21755 */display: inline-block !important;position: relative;}#sk-container-id-1 div.sk-text-repr-fallback {display: none;}</style><div id=\"sk-container-id-1\" class=\"sk-top-container\"><div class=\"sk-text-repr-fallback\"><pre>LogisticRegression(random_state=42)</pre><b>In a Jupyter environment, please rerun this cell to show the HTML representation or trust the notebook. <br />On GitHub, the HTML representation is unable to render, please try loading this page with nbviewer.org.</b></div><div class=\"sk-container\" hidden><div class=\"sk-item\"><div class=\"sk-estimator sk-toggleable\"><input class=\"sk-toggleable__control sk-hidden--visually\" id=\"sk-estimator-id-1\" type=\"checkbox\" checked><label for=\"sk-estimator-id-1\" class=\"sk-toggleable__label sk-toggleable__label-arrow\">LogisticRegression</label><div class=\"sk-toggleable__content\"><pre>LogisticRegression(random_state=42)</pre></div></div></div></div></div>"
      ],
      "text/plain": [
       "LogisticRegression(random_state=42)"
      ]
     },
     "execution_count": 48,
     "metadata": {},
     "output_type": "execute_result"
    }
   ],
   "source": [
    "log_reg = LogisticRegression(random_state=42)\n",
    "log_reg.fit(X_train, y_train)"
   ]
  },
  {
   "cell_type": "code",
   "execution_count": 49,
   "id": "cb8cf072",
   "metadata": {
    "execution": {
     "iopub.execute_input": "2025-09-05T04:48:16.927385Z",
     "iopub.status.busy": "2025-09-05T04:48:16.927046Z",
     "iopub.status.idle": "2025-09-05T04:48:16.932097Z",
     "shell.execute_reply": "2025-09-05T04:48:16.931328Z"
    },
    "papermill": {
     "duration": 0.03656,
     "end_time": "2025-09-05T04:48:16.933672",
     "exception": false,
     "start_time": "2025-09-05T04:48:16.897112",
     "status": "completed"
    },
    "tags": []
   },
   "outputs": [],
   "source": [
    "X_new= np.linspace(0,3,1000).reshape(-1,1)\n",
    "y_proba = log_reg.predict_proba(X_new)"
   ]
  },
  {
   "cell_type": "code",
   "execution_count": 50,
   "id": "95add23b",
   "metadata": {
    "execution": {
     "iopub.execute_input": "2025-09-05T04:48:16.986186Z",
     "iopub.status.busy": "2025-09-05T04:48:16.985839Z",
     "iopub.status.idle": "2025-09-05T04:48:16.989658Z",
     "shell.execute_reply": "2025-09-05T04:48:16.989080Z"
    },
    "papermill": {
     "duration": 0.028633,
     "end_time": "2025-09-05T04:48:16.990922",
     "exception": false,
     "start_time": "2025-09-05T04:48:16.962289",
     "status": "completed"
    },
    "tags": []
   },
   "outputs": [],
   "source": [
    "decision_boundary = X_new[y_proba[:,1]>=0.5][0,0]"
   ]
  },
  {
   "cell_type": "code",
   "execution_count": 51,
   "id": "31cf5188",
   "metadata": {
    "execution": {
     "iopub.execute_input": "2025-09-05T04:48:17.026041Z",
     "iopub.status.busy": "2025-09-05T04:48:17.025361Z",
     "iopub.status.idle": "2025-09-05T04:48:17.159531Z",
     "shell.execute_reply": "2025-09-05T04:48:17.158622Z"
    },
    "papermill": {
     "duration": 0.153279,
     "end_time": "2025-09-05T04:48:17.161014",
     "exception": false,
     "start_time": "2025-09-05T04:48:17.007735",
     "status": "completed"
    },
    "tags": []
   },
   "outputs": [
    {
     "data": {
      "image/png": "[encoded data removed]",
      "text/plain": [
       "<Figure size 640x480 with 1 Axes>"
      ]
     },
     "metadata": {},
     "output_type": "display_data"
    }
   ],
   "source": [
    "plt.plot(X_new, y_proba[:, 0], \"b--\", linewidth=2,\n",
    "label=\"Not Iris virginica proba\")\n",
    "plt.plot(X_new, y_proba[:, 1], \"g-\", linewidth=2, label=\"Iris virginica proba\")\n",
    "plt.plot([decision_boundary, decision_boundary], [0, 1], \"k:\", linewidth=2,\n",
    "label=\"Decision boundary\")\n",
    "# [...] # beautify the figure: add grid, labels, axis, legend, arrows, and samples\n",
    "plt.show()\n"
   ]
  },
  {
   "cell_type": "code",
   "execution_count": 52,
   "id": "e6854907",
   "metadata": {
    "execution": {
     "iopub.execute_input": "2025-09-05T04:48:17.198751Z",
     "iopub.status.busy": "2025-09-05T04:48:17.198435Z",
     "iopub.status.idle": "2025-09-05T04:48:17.225378Z",
     "shell.execute_reply": "2025-09-05T04:48:17.223380Z"
    },
    "papermill": {
     "duration": 0.047946,
     "end_time": "2025-09-05T04:48:17.227128",
     "exception": false,
     "start_time": "2025-09-05T04:48:17.179182",
     "status": "completed"
    },
    "tags": []
   },
   "outputs": [
    {
     "data": {
      "text/html": [
       "<style>#sk-container-id-2 {color: black;background-color: white;}#sk-container-id-2 pre{padding: 0;}#sk-container-id-2 div.sk-toggleable {background-color: white;}#sk-container-id-2 label.sk-toggleable__label {cursor: pointer;display: block;width: 100%;margin-bottom: 0;padding: 0.3em;box-sizing: border-box;text-align: center;}#sk-container-id-2 label.sk-toggleable__label-arrow:before {content: \"▸\";float: left;margin-right: 0.25em;color: #696969;}#sk-container-id-2 label.sk-toggleable__label-arrow:hover:before {color: black;}#sk-container-id-2 div.sk-estimator:hover label.sk-toggleable__label-arrow:before {color: black;}#sk-container-id-2 div.sk-toggleable__content {max-height: 0;max-width: 0;overflow: hidden;text-align: left;background-color: #f0f8ff;}#sk-container-id-2 div.sk-toggleable__content pre {margin: 0.2em;color: black;border-radius: 0.25em;background-color: #f0f8ff;}#sk-container-id-2 input.sk-toggleable__control:checked~div.sk-toggleable__content {max-height: 200px;max-width: 100%;overflow: auto;}#sk-container-id-2 input.sk-toggleable__control:checked~label.sk-toggleable__label-arrow:before {content: \"▾\";}#sk-container-id-2 div.sk-estimator input.sk-toggleable__control:checked~label.sk-toggleable__label {background-color: #d4ebff;}#sk-container-id-2 div.sk-label input.sk-toggleable__control:checked~label.sk-toggleable__label {background-color: #d4ebff;}#sk-container-id-2 input.sk-hidden--visually {border: 0;clip: rect(1px 1px 1px 1px);clip: rect(1px, 1px, 1px, 1px);height: 1px;margin: -1px;overflow: hidden;padding: 0;position: absolute;width: 1px;}#sk-container-id-2 div.sk-estimator {font-family: monospace;background-color: #f0f8ff;border: 1px dotted black;border-radius: 0.25em;box-sizing: border-box;margin-bottom: 0.5em;}#sk-container-id-2 div.sk-estimator:hover {background-color: #d4ebff;}#sk-container-id-2 div.sk-parallel-item::after {content: \"\";width: 100%;border-bottom: 1px solid gray;flex-grow: 1;}#sk-container-id-2 div.sk-label:hover label.sk-toggleable__label {background-color: #d4ebff;}#sk-container-id-2 div.sk-serial::before {content: \"\";position: absolute;border-left: 1px solid gray;box-sizing: border-box;top: 0;bottom: 0;left: 50%;z-index: 0;}#sk-container-id-2 div.sk-serial {display: flex;flex-direction: column;align-items: center;background-color: white;padding-right: 0.2em;padding-left: 0.2em;position: relative;}#sk-container-id-2 div.sk-item {position: relative;z-index: 1;}#sk-container-id-2 div.sk-parallel {display: flex;align-items: stretch;justify-content: center;background-color: white;position: relative;}#sk-container-id-2 div.sk-item::before, #sk-container-id-2 div.sk-parallel-item::before {content: \"\";position: absolute;border-left: 1px solid gray;box-sizing: border-box;top: 0;bottom: 0;left: 50%;z-index: -1;}#sk-container-id-2 div.sk-parallel-item {display: flex;flex-direction: column;z-index: 1;position: relative;background-color: white;}#sk-container-id-2 div.sk-parallel-item:first-child::after {align-self: flex-end;width: 50%;}#sk-container-id-2 div.sk-parallel-item:last-child::after {align-self: flex-start;width: 50%;}#sk-container-id-2 div.sk-parallel-item:only-child::after {width: 0;}#sk-container-id-2 div.sk-dashed-wrapped {border: 1px dashed gray;margin: 0 0.4em 0.5em 0.4em;box-sizing: border-box;padding-bottom: 0.4em;background-color: white;}#sk-container-id-2 div.sk-label label {font-family: monospace;font-weight: bold;display: inline-block;line-height: 1.2em;}#sk-container-id-2 div.sk-label-container {text-align: center;}#sk-container-id-2 div.sk-container {/* jupyter's `normalize.less` sets `[hidden] { display: none; }` but bootstrap.min.css set `[hidden] { display: none !important; }` so we also need the `!important` here to be able to override the default hidden behavior on the sphinx rendered scikit-learn.org. See: https://github.com/scikit-learn/scikit-learn/issues/21755 */display: inline-block !important;position: relative;}#sk-container-id-2 div.sk-text-repr-fallback {display: none;}</style><div id=\"sk-container-id-2\" class=\"sk-top-container\"><div class=\"sk-text-repr-fallback\"><pre>LogisticRegression(C=30, random_state=42)</pre><b>In a Jupyter environment, please rerun this cell to show the HTML representation or trust the notebook. <br />On GitHub, the HTML representation is unable to render, please try loading this page with nbviewer.org.</b></div><div class=\"sk-container\" hidden><div class=\"sk-item\"><div class=\"sk-estimator sk-toggleable\"><input class=\"sk-toggleable__control sk-hidden--visually\" id=\"sk-estimator-id-2\" type=\"checkbox\" checked><label for=\"sk-estimator-id-2\" class=\"sk-toggleable__label sk-toggleable__label-arrow\">LogisticRegression</label><div class=\"sk-toggleable__content\"><pre>LogisticRegression(C=30, random_state=42)</pre></div></div></div></div></div>"
      ],
      "text/plain": [
       "LogisticRegression(C=30, random_state=42)"
      ]
     },
     "execution_count": 52,
     "metadata": {},
     "output_type": "execute_result"
    }
   ],
   "source": [
    "    X = iris.data[[\"petal length (cm)\", \"petal width (cm)\"]].values\n",
    "y = iris[\"target\"]\n",
    "X_train, X_test, y_train, y_test = train_test_split(X, y, random_state=42)\n",
    "softmax_reg = LogisticRegression(C=30, random_state=42)\n",
    "softmax_reg.fit(X_train, y_train)"
   ]
  },
  {
   "cell_type": "code",
   "execution_count": 53,
   "id": "7f0bfd08",
   "metadata": {
    "execution": {
     "iopub.execute_input": "2025-09-05T04:48:17.291234Z",
     "iopub.status.busy": "2025-09-05T04:48:17.290864Z",
     "iopub.status.idle": "2025-09-05T04:48:17.299226Z",
     "shell.execute_reply": "2025-09-05T04:48:17.298568Z"
    },
    "papermill": {
     "duration": 0.041863,
     "end_time": "2025-09-05T04:48:17.301043",
     "exception": false,
     "start_time": "2025-09-05T04:48:17.259180",
     "status": "completed"
    },
    "tags": []
   },
   "outputs": [
    {
     "data": {
      "text/plain": [
       "array([2])"
      ]
     },
     "execution_count": 53,
     "metadata": {},
     "output_type": "execute_result"
    }
   ],
   "source": [
    "softmax_reg.predict([[5, 2]])"
   ]
  },
  {
   "cell_type": "code",
   "execution_count": 54,
   "id": "404dbb02",
   "metadata": {
    "execution": {
     "iopub.execute_input": "2025-09-05T04:48:17.354477Z",
     "iopub.status.busy": "2025-09-05T04:48:17.354204Z",
     "iopub.status.idle": "2025-09-05T04:48:17.359214Z",
     "shell.execute_reply": "2025-09-05T04:48:17.358579Z"
    },
    "papermill": {
     "duration": 0.028448,
     "end_time": "2025-09-05T04:48:17.360370",
     "exception": false,
     "start_time": "2025-09-05T04:48:17.331922",
     "status": "completed"
    },
    "tags": []
   },
   "outputs": [
    {
     "data": {
      "text/plain": [
       "array([[0.  , 0.04, 0.96]])"
      ]
     },
     "execution_count": 54,
     "metadata": {},
     "output_type": "execute_result"
    }
   ],
   "source": [
    "softmax_reg.predict_proba([[5, 2]]).round(2)\n"
   ]
  },
  {
   "cell_type": "code",
   "execution_count": 55,
   "id": "89fbee3c",
   "metadata": {
    "execution": {
     "iopub.execute_input": "2025-09-05T04:48:17.398205Z",
     "iopub.status.busy": "2025-09-05T04:48:17.397557Z",
     "iopub.status.idle": "2025-09-05T04:48:17.401443Z",
     "shell.execute_reply": "2025-09-05T04:48:17.400762Z"
    },
    "papermill": {
     "duration": 0.024432,
     "end_time": "2025-09-05T04:48:17.402797",
     "exception": false,
     "start_time": "2025-09-05T04:48:17.378365",
     "status": "completed"
    },
    "tags": []
   },
   "outputs": [],
   "source": [
    "import numpy as np \n",
    "import pandas as pd"
   ]
  },
  {
   "cell_type": "code",
   "execution_count": 56,
   "id": "e4d076bb",
   "metadata": {
    "execution": {
     "iopub.execute_input": "2025-09-05T04:48:17.440621Z",
     "iopub.status.busy": "2025-09-05T04:48:17.439967Z",
     "iopub.status.idle": "2025-09-05T04:48:17.444745Z",
     "shell.execute_reply": "2025-09-05T04:48:17.443918Z"
    },
    "papermill": {
     "duration": 0.025034,
     "end_time": "2025-09-05T04:48:17.446146",
     "exception": false,
     "start_time": "2025-09-05T04:48:17.421112",
     "status": "completed"
    },
    "tags": []
   },
   "outputs": [],
   "source": [
    "df = pd.DataFrame({'running':[3,4,2,5,np.nan,4,1]})"
   ]
  },
  {
   "cell_type": "code",
   "execution_count": 57,
   "id": "76610ad0",
   "metadata": {
    "execution": {
     "iopub.execute_input": "2025-09-05T04:48:17.483009Z",
     "iopub.status.busy": "2025-09-05T04:48:17.482653Z",
     "iopub.status.idle": "2025-09-05T04:48:17.492913Z",
     "shell.execute_reply": "2025-09-05T04:48:17.491980Z"
    },
    "papermill": {
     "duration": 0.030138,
     "end_time": "2025-09-05T04:48:17.494285",
     "exception": false,
     "start_time": "2025-09-05T04:48:17.464147",
     "status": "completed"
    },
    "tags": []
   },
   "outputs": [
    {
     "name": "stderr",
     "output_type": "stream",
     "text": [
      "/usr/local/lib/python3.11/dist-packages/pandas/io/formats/format.py:1458: RuntimeWarning: invalid value encountered in greater\n",
      "  has_large_values = (abs_vals > 1e6).any()\n",
      "/usr/local/lib/python3.11/dist-packages/pandas/io/formats/format.py:1459: RuntimeWarning: invalid value encountered in less\n",
      "  has_small_values = ((abs_vals < 10 ** (-self.digits)) & (abs_vals > 0)).any()\n",
      "/usr/local/lib/python3.11/dist-packages/pandas/io/formats/format.py:1459: RuntimeWarning: invalid value encountered in greater\n",
      "  has_small_values = ((abs_vals < 10 ** (-self.digits)) & (abs_vals > 0)).any()\n"
     ]
    },
    {
     "data": {
      "text/html": [
       "<div>\n",
       "<style scoped>\n",
       "    .dataframe tbody tr th:only-of-type {\n",
       "        vertical-align: middle;\n",
       "    }\n",
       "\n",
       "    .dataframe tbody tr th {\n",
       "        vertical-align: top;\n",
       "    }\n",
       "\n",
       "    .dataframe thead th {\n",
       "        text-align: right;\n",
       "    }\n",
       "</style>\n",
       "<table border=\"1\" class=\"dataframe\">\n",
       "  <thead>\n",
       "    <tr style=\"text-align: right;\">\n",
       "      <th></th>\n",
       "      <th>running</th>\n",
       "    </tr>\n",
       "  </thead>\n",
       "  <tbody>\n",
       "    <tr>\n",
       "      <th>0</th>\n",
       "      <td>3.0</td>\n",
       "    </tr>\n",
       "    <tr>\n",
       "      <th>1</th>\n",
       "      <td>4.0</td>\n",
       "    </tr>\n",
       "    <tr>\n",
       "      <th>2</th>\n",
       "      <td>2.0</td>\n",
       "    </tr>\n",
       "    <tr>\n",
       "      <th>3</th>\n",
       "      <td>5.0</td>\n",
       "    </tr>\n",
       "    <tr>\n",
       "      <th>4</th>\n",
       "      <td>NaN</td>\n",
       "    </tr>\n",
       "    <tr>\n",
       "      <th>5</th>\n",
       "      <td>4.0</td>\n",
       "    </tr>\n",
       "    <tr>\n",
       "      <th>6</th>\n",
       "      <td>1.0</td>\n",
       "    </tr>\n",
       "  </tbody>\n",
       "</table>\n",
       "</div>"
      ],
      "text/plain": [
       "   running\n",
       "0      3.0\n",
       "1      4.0\n",
       "2      2.0\n",
       "3      5.0\n",
       "4      NaN\n",
       "5      4.0\n",
       "6      1.0"
      ]
     },
     "execution_count": 57,
     "metadata": {},
     "output_type": "execute_result"
    }
   ],
   "source": [
    "df"
   ]
  },
  {
   "cell_type": "code",
   "execution_count": 58,
   "id": "7bd2d6cd",
   "metadata": {
    "execution": {
     "iopub.execute_input": "2025-09-05T04:48:17.534085Z",
     "iopub.status.busy": "2025-09-05T04:48:17.533673Z",
     "iopub.status.idle": "2025-09-05T04:48:17.540382Z",
     "shell.execute_reply": "2025-09-05T04:48:17.539582Z"
    },
    "papermill": {
     "duration": 0.029264,
     "end_time": "2025-09-05T04:48:17.541724",
     "exception": false,
     "start_time": "2025-09-05T04:48:17.512460",
     "status": "completed"
    },
    "tags": []
   },
   "outputs": [
    {
     "data": {
      "text/plain": [
       "running    1\n",
       "dtype: int64"
      ]
     },
     "execution_count": 58,
     "metadata": {},
     "output_type": "execute_result"
    }
   ],
   "source": [
    "df.isna().sum()"
   ]
  },
  {
   "cell_type": "code",
   "execution_count": 59,
   "id": "36f70b84",
   "metadata": {
    "execution": {
     "iopub.execute_input": "2025-09-05T04:48:17.580204Z",
     "iopub.status.busy": "2025-09-05T04:48:17.579859Z",
     "iopub.status.idle": "2025-09-05T04:48:17.717551Z",
     "shell.execute_reply": "2025-09-05T04:48:17.716389Z"
    },
    "papermill": {
     "duration": 0.158899,
     "end_time": "2025-09-05T04:48:17.719158",
     "exception": false,
     "start_time": "2025-09-05T04:48:17.560259",
     "status": "completed"
    },
    "tags": []
   },
   "outputs": [
    {
     "data": {
      "text/plain": [
       "array([[3.  ],\n",
       "       [4.  ],\n",
       "       [2.  ],\n",
       "       [5.  ],\n",
       "       [3.17],\n",
       "       [4.  ],\n",
       "       [1.  ]])"
      ]
     },
     "execution_count": 59,
     "metadata": {},
     "output_type": "execute_result"
    }
   ],
   "source": [
    "from sklearn.impute import SimpleImputer\n",
    "\n",
    "imp_mean = SimpleImputer(strategy='mean')\n",
    "\n",
    "imp_mean.fit_transform(df[['running']]).round(2)"
   ]
  },
  {
   "cell_type": "code",
   "execution_count": 60,
   "id": "2a9a9e12",
   "metadata": {
    "execution": {
     "iopub.execute_input": "2025-09-05T04:48:17.757377Z",
     "iopub.status.busy": "2025-09-05T04:48:17.757100Z",
     "iopub.status.idle": "2025-09-05T04:48:17.761533Z",
     "shell.execute_reply": "2025-09-05T04:48:17.760761Z"
    },
    "papermill": {
     "duration": 0.025087,
     "end_time": "2025-09-05T04:48:17.762854",
     "exception": false,
     "start_time": "2025-09-05T04:48:17.737767",
     "status": "completed"
    },
    "tags": []
   },
   "outputs": [],
   "source": [
    "# Define imputers first\n",
    "imp_con = SimpleImputer(strategy='constant', fill_value=\"Unknown\") \n",
    "imp_freq = SimpleImputer(strategy='most_frequent')                  \n",
    "imp_median = SimpleImputer(strategy='median')                       "
   ]
  },
  {
   "cell_type": "code",
   "execution_count": 61,
   "id": "9d592fba",
   "metadata": {
    "execution": {
     "iopub.execute_input": "2025-09-05T04:48:17.800841Z",
     "iopub.status.busy": "2025-09-05T04:48:17.800534Z",
     "iopub.status.idle": "2025-09-05T04:48:17.804545Z",
     "shell.execute_reply": "2025-09-05T04:48:17.803658Z"
    },
    "papermill": {
     "duration": 0.024567,
     "end_time": "2025-09-05T04:48:17.805975",
     "exception": false,
     "start_time": "2025-09-05T04:48:17.781408",
     "status": "completed"
    },
    "tags": []
   },
   "outputs": [],
   "source": [
    "# from sklearn.compose import make_column_transformer\n",
    "\n",
    "# ct = make_column_transformer(\n",
    "#     (imp_con, ['name']),\n",
    "#     (imp_freq, ['running']) \n",
    "# )\n",
    " \n",
    "# ct.set_output(transform=\"pandas\")\n",
    "# ct.fit_transoform(df)"
   ]
  },
  {
   "cell_type": "code",
   "execution_count": 62,
   "id": "a9c935ba",
   "metadata": {
    "execution": {
     "iopub.execute_input": "2025-09-05T04:48:17.844915Z",
     "iopub.status.busy": "2025-09-05T04:48:17.844544Z",
     "iopub.status.idle": "2025-09-05T04:48:17.857477Z",
     "shell.execute_reply": "2025-09-05T04:48:17.856726Z"
    },
    "papermill": {
     "duration": 0.034138,
     "end_time": "2025-09-05T04:48:17.858991",
     "exception": false,
     "start_time": "2025-09-05T04:48:17.824853",
     "status": "completed"
    },
    "tags": []
   },
   "outputs": [],
   "source": [
    "data = {\n",
    "        \"name\": [np.nan, \"Alice\", \"Bob\", \"Charlie\", \"David\", \"Eva\", \"Frank\", \"Grace\", \"Hannah\", \"Ian\"],\n",
    "        \"age\": [np.nan, 25, 30, 22, 28, 35, 40, 18, 50, 45],\n",
    "        \"country\": [np.nan, \"USA\", \"Canada\", \"UK\", \"Australia\", \"Germany\", \"France\", \"Italy\", \"Spain\", \"India\"],\n",
    "        \"height_size\": [np.nan, 5.5, 6.0, 5.8, 5.4, 6.1, 5.7, 5.9, 6.2, 5.6]\n",
    "    }\n",
    "\n",
    "data = pd.DataFrame(data)\n",
    "bins =[5.0,5.9,6.1,np.inf]\n",
    "labels = ['short','medium','high']\n",
    "data['h_s'] =  pd.cut(data['height_size'],bins=bins,labels=labels)"
   ]
  },
  {
   "cell_type": "code",
   "execution_count": 63,
   "id": "c03f55a2",
   "metadata": {
    "execution": {
     "iopub.execute_input": "2025-09-05T04:48:17.896983Z",
     "iopub.status.busy": "2025-09-05T04:48:17.896656Z",
     "iopub.status.idle": "2025-09-05T04:48:17.908952Z",
     "shell.execute_reply": "2025-09-05T04:48:17.908090Z"
    },
    "papermill": {
     "duration": 0.033094,
     "end_time": "2025-09-05T04:48:17.910364",
     "exception": false,
     "start_time": "2025-09-05T04:48:17.877270",
     "status": "completed"
    },
    "tags": []
   },
   "outputs": [
    {
     "name": "stderr",
     "output_type": "stream",
     "text": [
      "/usr/local/lib/python3.11/dist-packages/pandas/io/formats/format.py:1458: RuntimeWarning: invalid value encountered in greater\n",
      "  has_large_values = (abs_vals > 1e6).any()\n",
      "/usr/local/lib/python3.11/dist-packages/pandas/io/formats/format.py:1459: RuntimeWarning: invalid value encountered in less\n",
      "  has_small_values = ((abs_vals < 10 ** (-self.digits)) & (abs_vals > 0)).any()\n",
      "/usr/local/lib/python3.11/dist-packages/pandas/io/formats/format.py:1459: RuntimeWarning: invalid value encountered in greater\n",
      "  has_small_values = ((abs_vals < 10 ** (-self.digits)) & (abs_vals > 0)).any()\n"
     ]
    },
    {
     "data": {
      "text/html": [
       "<div>\n",
       "<style scoped>\n",
       "    .dataframe tbody tr th:only-of-type {\n",
       "        vertical-align: middle;\n",
       "    }\n",
       "\n",
       "    .dataframe tbody tr th {\n",
       "        vertical-align: top;\n",
       "    }\n",
       "\n",
       "    .dataframe thead th {\n",
       "        text-align: right;\n",
       "    }\n",
       "</style>\n",
       "<table border=\"1\" class=\"dataframe\">\n",
       "  <thead>\n",
       "    <tr style=\"text-align: right;\">\n",
       "      <th></th>\n",
       "      <th>name</th>\n",
       "      <th>age</th>\n",
       "      <th>country</th>\n",
       "      <th>height_size</th>\n",
       "      <th>h_s</th>\n",
       "    </tr>\n",
       "  </thead>\n",
       "  <tbody>\n",
       "    <tr>\n",
       "      <th>0</th>\n",
       "      <td>NaN</td>\n",
       "      <td>NaN</td>\n",
       "      <td>NaN</td>\n",
       "      <td>NaN</td>\n",
       "      <td>NaN</td>\n",
       "    </tr>\n",
       "    <tr>\n",
       "      <th>1</th>\n",
       "      <td>Alice</td>\n",
       "      <td>25.0</td>\n",
       "      <td>USA</td>\n",
       "      <td>5.5</td>\n",
       "      <td>short</td>\n",
       "    </tr>\n",
       "    <tr>\n",
       "      <th>2</th>\n",
       "      <td>Bob</td>\n",
       "      <td>30.0</td>\n",
       "      <td>Canada</td>\n",
       "      <td>6.0</td>\n",
       "      <td>medium</td>\n",
       "    </tr>\n",
       "    <tr>\n",
       "      <th>3</th>\n",
       "      <td>Charlie</td>\n",
       "      <td>22.0</td>\n",
       "      <td>UK</td>\n",
       "      <td>5.8</td>\n",
       "      <td>short</td>\n",
       "    </tr>\n",
       "    <tr>\n",
       "      <th>4</th>\n",
       "      <td>David</td>\n",
       "      <td>28.0</td>\n",
       "      <td>Australia</td>\n",
       "      <td>5.4</td>\n",
       "      <td>short</td>\n",
       "    </tr>\n",
       "    <tr>\n",
       "      <th>5</th>\n",
       "      <td>Eva</td>\n",
       "      <td>35.0</td>\n",
       "      <td>Germany</td>\n",
       "      <td>6.1</td>\n",
       "      <td>medium</td>\n",
       "    </tr>\n",
       "    <tr>\n",
       "      <th>6</th>\n",
       "      <td>Frank</td>\n",
       "      <td>40.0</td>\n",
       "      <td>France</td>\n",
       "      <td>5.7</td>\n",
       "      <td>short</td>\n",
       "    </tr>\n",
       "    <tr>\n",
       "      <th>7</th>\n",
       "      <td>Grace</td>\n",
       "      <td>18.0</td>\n",
       "      <td>Italy</td>\n",
       "      <td>5.9</td>\n",
       "      <td>short</td>\n",
       "    </tr>\n",
       "    <tr>\n",
       "      <th>8</th>\n",
       "      <td>Hannah</td>\n",
       "      <td>50.0</td>\n",
       "      <td>Spain</td>\n",
       "      <td>6.2</td>\n",
       "      <td>high</td>\n",
       "    </tr>\n",
       "    <tr>\n",
       "      <th>9</th>\n",
       "      <td>Ian</td>\n",
       "      <td>45.0</td>\n",
       "      <td>India</td>\n",
       "      <td>5.6</td>\n",
       "      <td>short</td>\n",
       "    </tr>\n",
       "  </tbody>\n",
       "</table>\n",
       "</div>"
      ],
      "text/plain": [
       "      name   age    country  height_size     h_s\n",
       "0      NaN   NaN        NaN          NaN     NaN\n",
       "1    Alice  25.0        USA          5.5   short\n",
       "2      Bob  30.0     Canada          6.0  medium\n",
       "3  Charlie  22.0         UK          5.8   short\n",
       "4    David  28.0  Australia          5.4   short\n",
       "5      Eva  35.0    Germany          6.1  medium\n",
       "6    Frank  40.0     France          5.7   short\n",
       "7    Grace  18.0      Italy          5.9   short\n",
       "8   Hannah  50.0      Spain          6.2    high\n",
       "9      Ian  45.0      India          5.6   short"
      ]
     },
     "execution_count": 63,
     "metadata": {},
     "output_type": "execute_result"
    }
   ],
   "source": [
    "data"
   ]
  },
  {
   "cell_type": "code",
   "execution_count": 64,
   "id": "884ef571",
   "metadata": {
    "execution": {
     "iopub.execute_input": "2025-09-05T04:48:17.949030Z",
     "iopub.status.busy": "2025-09-05T04:48:17.948691Z",
     "iopub.status.idle": "2025-09-05T04:48:17.981642Z",
     "shell.execute_reply": "2025-09-05T04:48:17.980801Z"
    },
    "papermill": {
     "duration": 0.053922,
     "end_time": "2025-09-05T04:48:17.983036",
     "exception": false,
     "start_time": "2025-09-05T04:48:17.929114",
     "status": "completed"
    },
    "tags": []
   },
   "outputs": [
    {
     "name": "stderr",
     "output_type": "stream",
     "text": [
      "/usr/local/lib/python3.11/dist-packages/pandas/io/formats/format.py:1458: RuntimeWarning: invalid value encountered in greater\n",
      "  has_large_values = (abs_vals > 1e6).any()\n",
      "/usr/local/lib/python3.11/dist-packages/pandas/io/formats/format.py:1459: RuntimeWarning: invalid value encountered in less\n",
      "  has_small_values = ((abs_vals < 10 ** (-self.digits)) & (abs_vals > 0)).any()\n",
      "/usr/local/lib/python3.11/dist-packages/pandas/io/formats/format.py:1459: RuntimeWarning: invalid value encountered in greater\n",
      "  has_small_values = ((abs_vals < 10 ** (-self.digits)) & (abs_vals > 0)).any()\n"
     ]
    },
    {
     "data": {
      "text/html": [
       "<div>\n",
       "<style scoped>\n",
       "    .dataframe tbody tr th:only-of-type {\n",
       "        vertical-align: middle;\n",
       "    }\n",
       "\n",
       "    .dataframe tbody tr th {\n",
       "        vertical-align: top;\n",
       "    }\n",
       "\n",
       "    .dataframe thead th {\n",
       "        text-align: right;\n",
       "    }\n",
       "</style>\n",
       "<table border=\"1\" class=\"dataframe\">\n",
       "  <thead>\n",
       "    <tr style=\"text-align: right;\">\n",
       "      <th></th>\n",
       "      <th>onehotencoder__h_s_high</th>\n",
       "      <th>onehotencoder__h_s_medium</th>\n",
       "      <th>onehotencoder__h_s_short</th>\n",
       "      <th>onehotencoder__h_s_nan</th>\n",
       "      <th>ordinalencoder__country</th>\n",
       "      <th>remainder__name</th>\n",
       "      <th>remainder__age</th>\n",
       "      <th>remainder__height_size</th>\n",
       "    </tr>\n",
       "  </thead>\n",
       "  <tbody>\n",
       "    <tr>\n",
       "      <th>0</th>\n",
       "      <td>0.0</td>\n",
       "      <td>0.0</td>\n",
       "      <td>0.0</td>\n",
       "      <td>1.0</td>\n",
       "      <td>NaN</td>\n",
       "      <td>NaN</td>\n",
       "      <td>NaN</td>\n",
       "      <td>NaN</td>\n",
       "    </tr>\n",
       "    <tr>\n",
       "      <th>1</th>\n",
       "      <td>0.0</td>\n",
       "      <td>0.0</td>\n",
       "      <td>1.0</td>\n",
       "      <td>0.0</td>\n",
       "      <td>8.0</td>\n",
       "      <td>Alice</td>\n",
       "      <td>25.0</td>\n",
       "      <td>5.5</td>\n",
       "    </tr>\n",
       "    <tr>\n",
       "      <th>2</th>\n",
       "      <td>0.0</td>\n",
       "      <td>1.0</td>\n",
       "      <td>0.0</td>\n",
       "      <td>0.0</td>\n",
       "      <td>1.0</td>\n",
       "      <td>Bob</td>\n",
       "      <td>30.0</td>\n",
       "      <td>6.0</td>\n",
       "    </tr>\n",
       "    <tr>\n",
       "      <th>3</th>\n",
       "      <td>0.0</td>\n",
       "      <td>0.0</td>\n",
       "      <td>1.0</td>\n",
       "      <td>0.0</td>\n",
       "      <td>7.0</td>\n",
       "      <td>Charlie</td>\n",
       "      <td>22.0</td>\n",
       "      <td>5.8</td>\n",
       "    </tr>\n",
       "    <tr>\n",
       "      <th>4</th>\n",
       "      <td>0.0</td>\n",
       "      <td>0.0</td>\n",
       "      <td>1.0</td>\n",
       "      <td>0.0</td>\n",
       "      <td>0.0</td>\n",
       "      <td>David</td>\n",
       "      <td>28.0</td>\n",
       "      <td>5.4</td>\n",
       "    </tr>\n",
       "    <tr>\n",
       "      <th>5</th>\n",
       "      <td>0.0</td>\n",
       "      <td>1.0</td>\n",
       "      <td>0.0</td>\n",
       "      <td>0.0</td>\n",
       "      <td>3.0</td>\n",
       "      <td>Eva</td>\n",
       "      <td>35.0</td>\n",
       "      <td>6.1</td>\n",
       "    </tr>\n",
       "    <tr>\n",
       "      <th>6</th>\n",
       "      <td>0.0</td>\n",
       "      <td>0.0</td>\n",
       "      <td>1.0</td>\n",
       "      <td>0.0</td>\n",
       "      <td>2.0</td>\n",
       "      <td>Frank</td>\n",
       "      <td>40.0</td>\n",
       "      <td>5.7</td>\n",
       "    </tr>\n",
       "    <tr>\n",
       "      <th>7</th>\n",
       "      <td>0.0</td>\n",
       "      <td>0.0</td>\n",
       "      <td>1.0</td>\n",
       "      <td>0.0</td>\n",
       "      <td>5.0</td>\n",
       "      <td>Grace</td>\n",
       "      <td>18.0</td>\n",
       "      <td>5.9</td>\n",
       "    </tr>\n",
       "    <tr>\n",
       "      <th>8</th>\n",
       "      <td>1.0</td>\n",
       "      <td>0.0</td>\n",
       "      <td>0.0</td>\n",
       "      <td>0.0</td>\n",
       "      <td>6.0</td>\n",
       "      <td>Hannah</td>\n",
       "      <td>50.0</td>\n",
       "      <td>6.2</td>\n",
       "    </tr>\n",
       "    <tr>\n",
       "      <th>9</th>\n",
       "      <td>0.0</td>\n",
       "      <td>0.0</td>\n",
       "      <td>1.0</td>\n",
       "      <td>0.0</td>\n",
       "      <td>4.0</td>\n",
       "      <td>Ian</td>\n",
       "      <td>45.0</td>\n",
       "      <td>5.6</td>\n",
       "    </tr>\n",
       "  </tbody>\n",
       "</table>\n",
       "</div>"
      ],
      "text/plain": [
       "   onehotencoder__h_s_high  onehotencoder__h_s_medium  \\\n",
       "0                      0.0                        0.0   \n",
       "1                      0.0                        0.0   \n",
       "2                      0.0                        1.0   \n",
       "3                      0.0                        0.0   \n",
       "4                      0.0                        0.0   \n",
       "5                      0.0                        1.0   \n",
       "6                      0.0                        0.0   \n",
       "7                      0.0                        0.0   \n",
       "8                      1.0                        0.0   \n",
       "9                      0.0                        0.0   \n",
       "\n",
       "   onehotencoder__h_s_short  onehotencoder__h_s_nan  ordinalencoder__country  \\\n",
       "0                       0.0                     1.0                      NaN   \n",
       "1                       1.0                     0.0                      8.0   \n",
       "2                       0.0                     0.0                      1.0   \n",
       "3                       1.0                     0.0                      7.0   \n",
       "4                       1.0                     0.0                      0.0   \n",
       "5                       0.0                     0.0                      3.0   \n",
       "6                       1.0                     0.0                      2.0   \n",
       "7                       1.0                     0.0                      5.0   \n",
       "8                       0.0                     0.0                      6.0   \n",
       "9                       1.0                     0.0                      4.0   \n",
       "\n",
       "  remainder__name  remainder__age  remainder__height_size  \n",
       "0             NaN             NaN                     NaN  \n",
       "1           Alice            25.0                     5.5  \n",
       "2             Bob            30.0                     6.0  \n",
       "3         Charlie            22.0                     5.8  \n",
       "4           David            28.0                     5.4  \n",
       "5             Eva            35.0                     6.1  \n",
       "6           Frank            40.0                     5.7  \n",
       "7           Grace            18.0                     5.9  \n",
       "8          Hannah            50.0                     6.2  \n",
       "9             Ian            45.0                     5.6  "
      ]
     },
     "execution_count": 64,
     "metadata": {},
     "output_type": "execute_result"
    }
   ],
   "source": [
    "from sklearn.preprocessing import OneHotEncoder , OrdinalEncoder\n",
    "\n",
    "ohe = OneHotEncoder(sparse_output=False)\n",
    "ode = OrdinalEncoder()\n",
    "\n",
    "from sklearn.compose import make_column_transformer\n",
    "\n",
    "\n",
    "ct = make_column_transformer(\n",
    "    (ohe,['h_s']),\n",
    "    (ode,['country']),\n",
    "    remainder ='passthrough'\n",
    ")\n",
    "\n",
    "ct.set_output(transform='pandas')\n",
    "ct.fit_transform(data)"
   ]
  },
  {
   "cell_type": "code",
   "execution_count": 65,
   "id": "8afce10e",
   "metadata": {
    "execution": {
     "iopub.execute_input": "2025-09-05T04:48:18.023008Z",
     "iopub.status.busy": "2025-09-05T04:48:18.022309Z",
     "iopub.status.idle": "2025-09-05T04:48:18.040856Z",
     "shell.execute_reply": "2025-09-05T04:48:18.039907Z"
    },
    "papermill": {
     "duration": 0.039665,
     "end_time": "2025-09-05T04:48:18.042223",
     "exception": false,
     "start_time": "2025-09-05T04:48:18.002558",
     "status": "completed"
    },
    "tags": []
   },
   "outputs": [
    {
     "name": "stderr",
     "output_type": "stream",
     "text": [
      "/usr/local/lib/python3.11/dist-packages/pandas/io/formats/format.py:1458: RuntimeWarning: invalid value encountered in greater\n",
      "  has_large_values = (abs_vals > 1e6).any()\n",
      "/usr/local/lib/python3.11/dist-packages/pandas/io/formats/format.py:1459: RuntimeWarning: invalid value encountered in less\n",
      "  has_small_values = ((abs_vals < 10 ** (-self.digits)) & (abs_vals > 0)).any()\n",
      "/usr/local/lib/python3.11/dist-packages/pandas/io/formats/format.py:1459: RuntimeWarning: invalid value encountered in greater\n",
      "  has_small_values = ((abs_vals < 10 ** (-self.digits)) & (abs_vals > 0)).any()\n"
     ]
    },
    {
     "data": {
      "text/html": [
       "<div>\n",
       "<style scoped>\n",
       "    .dataframe tbody tr th:only-of-type {\n",
       "        vertical-align: middle;\n",
       "    }\n",
       "\n",
       "    .dataframe tbody tr th {\n",
       "        vertical-align: top;\n",
       "    }\n",
       "\n",
       "    .dataframe thead th {\n",
       "        text-align: right;\n",
       "    }\n",
       "</style>\n",
       "<table border=\"1\" class=\"dataframe\">\n",
       "  <thead>\n",
       "    <tr style=\"text-align: right;\">\n",
       "      <th></th>\n",
       "      <th>onehotencoder__h_s_high</th>\n",
       "      <th>onehotencoder__h_s_medium</th>\n",
       "      <th>onehotencoder__h_s_short</th>\n",
       "      <th>onehotencoder__h_s_nan</th>\n",
       "      <th>ordinalencoder__country</th>\n",
       "    </tr>\n",
       "  </thead>\n",
       "  <tbody>\n",
       "    <tr>\n",
       "      <th>0</th>\n",
       "      <td>0.0</td>\n",
       "      <td>0.0</td>\n",
       "      <td>0.0</td>\n",
       "      <td>1.0</td>\n",
       "      <td>NaN</td>\n",
       "    </tr>\n",
       "    <tr>\n",
       "      <th>1</th>\n",
       "      <td>0.0</td>\n",
       "      <td>0.0</td>\n",
       "      <td>1.0</td>\n",
       "      <td>0.0</td>\n",
       "      <td>8.0</td>\n",
       "    </tr>\n",
       "    <tr>\n",
       "      <th>2</th>\n",
       "      <td>0.0</td>\n",
       "      <td>1.0</td>\n",
       "      <td>0.0</td>\n",
       "      <td>0.0</td>\n",
       "      <td>1.0</td>\n",
       "    </tr>\n",
       "    <tr>\n",
       "      <th>3</th>\n",
       "      <td>0.0</td>\n",
       "      <td>0.0</td>\n",
       "      <td>1.0</td>\n",
       "      <td>0.0</td>\n",
       "      <td>7.0</td>\n",
       "    </tr>\n",
       "    <tr>\n",
       "      <th>4</th>\n",
       "      <td>0.0</td>\n",
       "      <td>0.0</td>\n",
       "      <td>1.0</td>\n",
       "      <td>0.0</td>\n",
       "      <td>0.0</td>\n",
       "    </tr>\n",
       "    <tr>\n",
       "      <th>5</th>\n",
       "      <td>0.0</td>\n",
       "      <td>1.0</td>\n",
       "      <td>0.0</td>\n",
       "      <td>0.0</td>\n",
       "      <td>3.0</td>\n",
       "    </tr>\n",
       "    <tr>\n",
       "      <th>6</th>\n",
       "      <td>0.0</td>\n",
       "      <td>0.0</td>\n",
       "      <td>1.0</td>\n",
       "      <td>0.0</td>\n",
       "      <td>2.0</td>\n",
       "    </tr>\n",
       "    <tr>\n",
       "      <th>7</th>\n",
       "      <td>0.0</td>\n",
       "      <td>0.0</td>\n",
       "      <td>1.0</td>\n",
       "      <td>0.0</td>\n",
       "      <td>5.0</td>\n",
       "    </tr>\n",
       "    <tr>\n",
       "      <th>8</th>\n",
       "      <td>1.0</td>\n",
       "      <td>0.0</td>\n",
       "      <td>0.0</td>\n",
       "      <td>0.0</td>\n",
       "      <td>6.0</td>\n",
       "    </tr>\n",
       "    <tr>\n",
       "      <th>9</th>\n",
       "      <td>0.0</td>\n",
       "      <td>0.0</td>\n",
       "      <td>1.0</td>\n",
       "      <td>0.0</td>\n",
       "      <td>4.0</td>\n",
       "    </tr>\n",
       "  </tbody>\n",
       "</table>\n",
       "</div>"
      ],
      "text/plain": [
       "   onehotencoder__h_s_high  onehotencoder__h_s_medium  \\\n",
       "0                      0.0                        0.0   \n",
       "1                      0.0                        0.0   \n",
       "2                      0.0                        1.0   \n",
       "3                      0.0                        0.0   \n",
       "4                      0.0                        0.0   \n",
       "5                      0.0                        1.0   \n",
       "6                      0.0                        0.0   \n",
       "7                      0.0                        0.0   \n",
       "8                      1.0                        0.0   \n",
       "9                      0.0                        0.0   \n",
       "\n",
       "   onehotencoder__h_s_short  onehotencoder__h_s_nan  ordinalencoder__country  \n",
       "0                       0.0                     1.0                      NaN  \n",
       "1                       1.0                     0.0                      8.0  \n",
       "2                       0.0                     0.0                      1.0  \n",
       "3                       1.0                     0.0                      7.0  \n",
       "4                       1.0                     0.0                      0.0  \n",
       "5                       0.0                     0.0                      3.0  \n",
       "6                       1.0                     0.0                      2.0  \n",
       "7                       1.0                     0.0                      5.0  \n",
       "8                       0.0                     0.0                      6.0  \n",
       "9                       1.0                     0.0                      4.0  "
      ]
     },
     "execution_count": 65,
     "metadata": {},
     "output_type": "execute_result"
    }
   ],
   "source": [
    "ct1 = make_column_transformer(\n",
    "    (ohe,['h_s']),\n",
    "    (ode,['country']),\n",
    "    remainder ='drop'\n",
    ")\n",
    "\n",
    "ct1.set_output(transform='pandas')\n",
    "ct1.fit_transform(data)"
   ]
  },
  {
   "cell_type": "code",
   "execution_count": 66,
   "id": "0b33f249",
   "metadata": {
    "execution": {
     "iopub.execute_input": "2025-09-05T04:48:18.082362Z",
     "iopub.status.busy": "2025-09-05T04:48:18.081772Z",
     "iopub.status.idle": "2025-09-05T04:48:18.098036Z",
     "shell.execute_reply": "2025-09-05T04:48:18.097328Z"
    },
    "papermill": {
     "duration": 0.037448,
     "end_time": "2025-09-05T04:48:18.099284",
     "exception": false,
     "start_time": "2025-09-05T04:48:18.061836",
     "status": "completed"
    },
    "tags": []
   },
   "outputs": [
    {
     "data": {
      "text/html": [
       "<div>\n",
       "<style scoped>\n",
       "    .dataframe tbody tr th:only-of-type {\n",
       "        vertical-align: middle;\n",
       "    }\n",
       "\n",
       "    .dataframe tbody tr th {\n",
       "        vertical-align: top;\n",
       "    }\n",
       "\n",
       "    .dataframe thead th {\n",
       "        text-align: right;\n",
       "    }\n",
       "</style>\n",
       "<table border=\"1\" class=\"dataframe\">\n",
       "  <thead>\n",
       "    <tr style=\"text-align: right;\">\n",
       "      <th></th>\n",
       "      <th>onehotencoder__h_s_high</th>\n",
       "      <th>onehotencoder__h_s_medium</th>\n",
       "      <th>onehotencoder__h_s_short</th>\n",
       "      <th>onehotencoder__h_s_nan</th>\n",
       "      <th>passthrough__country</th>\n",
       "    </tr>\n",
       "  </thead>\n",
       "  <tbody>\n",
       "    <tr>\n",
       "      <th>0</th>\n",
       "      <td>0.0</td>\n",
       "      <td>0.0</td>\n",
       "      <td>0.0</td>\n",
       "      <td>1.0</td>\n",
       "      <td>NaN</td>\n",
       "    </tr>\n",
       "    <tr>\n",
       "      <th>1</th>\n",
       "      <td>0.0</td>\n",
       "      <td>0.0</td>\n",
       "      <td>1.0</td>\n",
       "      <td>0.0</td>\n",
       "      <td>USA</td>\n",
       "    </tr>\n",
       "    <tr>\n",
       "      <th>2</th>\n",
       "      <td>0.0</td>\n",
       "      <td>1.0</td>\n",
       "      <td>0.0</td>\n",
       "      <td>0.0</td>\n",
       "      <td>Canada</td>\n",
       "    </tr>\n",
       "    <tr>\n",
       "      <th>3</th>\n",
       "      <td>0.0</td>\n",
       "      <td>0.0</td>\n",
       "      <td>1.0</td>\n",
       "      <td>0.0</td>\n",
       "      <td>UK</td>\n",
       "    </tr>\n",
       "    <tr>\n",
       "      <th>4</th>\n",
       "      <td>0.0</td>\n",
       "      <td>0.0</td>\n",
       "      <td>1.0</td>\n",
       "      <td>0.0</td>\n",
       "      <td>Australia</td>\n",
       "    </tr>\n",
       "    <tr>\n",
       "      <th>5</th>\n",
       "      <td>0.0</td>\n",
       "      <td>1.0</td>\n",
       "      <td>0.0</td>\n",
       "      <td>0.0</td>\n",
       "      <td>Germany</td>\n",
       "    </tr>\n",
       "    <tr>\n",
       "      <th>6</th>\n",
       "      <td>0.0</td>\n",
       "      <td>0.0</td>\n",
       "      <td>1.0</td>\n",
       "      <td>0.0</td>\n",
       "      <td>France</td>\n",
       "    </tr>\n",
       "    <tr>\n",
       "      <th>7</th>\n",
       "      <td>0.0</td>\n",
       "      <td>0.0</td>\n",
       "      <td>1.0</td>\n",
       "      <td>0.0</td>\n",
       "      <td>Italy</td>\n",
       "    </tr>\n",
       "    <tr>\n",
       "      <th>8</th>\n",
       "      <td>1.0</td>\n",
       "      <td>0.0</td>\n",
       "      <td>0.0</td>\n",
       "      <td>0.0</td>\n",
       "      <td>Spain</td>\n",
       "    </tr>\n",
       "    <tr>\n",
       "      <th>9</th>\n",
       "      <td>0.0</td>\n",
       "      <td>0.0</td>\n",
       "      <td>1.0</td>\n",
       "      <td>0.0</td>\n",
       "      <td>India</td>\n",
       "    </tr>\n",
       "  </tbody>\n",
       "</table>\n",
       "</div>"
      ],
      "text/plain": [
       "   onehotencoder__h_s_high  onehotencoder__h_s_medium  \\\n",
       "0                      0.0                        0.0   \n",
       "1                      0.0                        0.0   \n",
       "2                      0.0                        1.0   \n",
       "3                      0.0                        0.0   \n",
       "4                      0.0                        0.0   \n",
       "5                      0.0                        1.0   \n",
       "6                      0.0                        0.0   \n",
       "7                      0.0                        0.0   \n",
       "8                      1.0                        0.0   \n",
       "9                      0.0                        0.0   \n",
       "\n",
       "   onehotencoder__h_s_short  onehotencoder__h_s_nan passthrough__country  \n",
       "0                       0.0                     1.0                  NaN  \n",
       "1                       1.0                     0.0                  USA  \n",
       "2                       0.0                     0.0               Canada  \n",
       "3                       1.0                     0.0                   UK  \n",
       "4                       1.0                     0.0            Australia  \n",
       "5                       0.0                     0.0              Germany  \n",
       "6                       1.0                     0.0               France  \n",
       "7                       1.0                     0.0                Italy  \n",
       "8                       0.0                     0.0                Spain  \n",
       "9                       1.0                     0.0                India  "
      ]
     },
     "execution_count": 66,
     "metadata": {},
     "output_type": "execute_result"
    }
   ],
   "source": [
    "ct3 = make_column_transformer(\n",
    "    (ohe,['h_s']),\n",
    "    ('passthrough',['country']),\n",
    "    remainder ='drop'\n",
    ")\n",
    "\n",
    "ct3.set_output(transform='pandas')\n",
    "ct3.fit_transform(data)"
   ]
  },
  {
   "cell_type": "markdown",
   "id": "8984faa3",
   "metadata": {
    "papermill": {
     "duration": 0.018854,
     "end_time": "2025-09-05T04:48:18.137596",
     "exception": false,
     "start_time": "2025-09-05T04:48:18.118742",
     "status": "completed"
    },
    "tags": []
   },
   "source": [
    "## Working On the Social Media Dataset "
   ]
  },
  {
   "cell_type": "code",
   "execution_count": 67,
   "id": "1ebbc7f4",
   "metadata": {
    "execution": {
     "iopub.execute_input": "2025-09-05T04:48:18.178466Z",
     "iopub.status.busy": "2025-09-05T04:48:18.178164Z",
     "iopub.status.idle": "2025-09-05T04:48:18.195233Z",
     "shell.execute_reply": "2025-09-05T04:48:18.194392Z"
    },
    "papermill": {
     "duration": 0.03951,
     "end_time": "2025-09-05T04:48:18.196858",
     "exception": false,
     "start_time": "2025-09-05T04:48:18.157348",
     "status": "completed"
    },
    "tags": []
   },
   "outputs": [],
   "source": [
    "df= pd.read_csv('/kaggle/input/social-media-addiction-vs-relationships/Students Social Media Addiction.csv')"
   ]
  },
  {
   "cell_type": "code",
   "execution_count": 68,
   "id": "0aa28790",
   "metadata": {
    "execution": {
     "iopub.execute_input": "2025-09-05T04:48:18.237554Z",
     "iopub.status.busy": "2025-09-05T04:48:18.236983Z",
     "iopub.status.idle": "2025-09-05T04:48:18.254499Z",
     "shell.execute_reply": "2025-09-05T04:48:18.253422Z"
    },
    "papermill": {
     "duration": 0.039632,
     "end_time": "2025-09-05T04:48:18.255982",
     "exception": false,
     "start_time": "2025-09-05T04:48:18.216350",
     "status": "completed"
    },
    "tags": []
   },
   "outputs": [
    {
     "name": "stdout",
     "output_type": "stream",
     "text": [
      "<class 'pandas.core.frame.DataFrame'>\n",
      "RangeIndex: 705 entries, 0 to 704\n",
      "Data columns (total 13 columns):\n",
      " #   Column                        Non-Null Count  Dtype  \n",
      "---  ------                        --------------  -----  \n",
      " 0   Student_ID                    705 non-null    int64  \n",
      " 1   Age                           705 non-null    int64  \n",
      " 2   Gender                        705 non-null    object \n",
      " 3   Academic_Level                705 non-null    object \n",
      " 4   Country                       705 non-null    object \n",
      " 5   Avg_Daily_Usage_Hours         705 non-null    float64\n",
      " 6   Most_Used_Platform            705 non-null    object \n",
      " 7   Affects_Academic_Performance  705 non-null    object \n",
      " 8   Sleep_Hours_Per_Night         705 non-null    float64\n",
      " 9   Mental_Health_Score           705 non-null    int64  \n",
      " 10  Relationship_Status           705 non-null    object \n",
      " 11  Conflicts_Over_Social_Media   705 non-null    int64  \n",
      " 12  Addicted_Score                705 non-null    int64  \n",
      "dtypes: float64(2), int64(5), object(6)\n",
      "memory usage: 71.7+ KB\n"
     ]
    }
   ],
   "source": [
    "df.info()"
   ]
  },
  {
   "cell_type": "code",
   "execution_count": 69,
   "id": "927c241c",
   "metadata": {
    "execution": {
     "iopub.execute_input": "2025-09-05T04:48:18.296788Z",
     "iopub.status.busy": "2025-09-05T04:48:18.296501Z",
     "iopub.status.idle": "2025-09-05T04:48:18.309751Z",
     "shell.execute_reply": "2025-09-05T04:48:18.308939Z"
    },
    "papermill": {
     "duration": 0.035593,
     "end_time": "2025-09-05T04:48:18.311154",
     "exception": false,
     "start_time": "2025-09-05T04:48:18.275561",
     "status": "completed"
    },
    "tags": []
   },
   "outputs": [
    {
     "data": {
      "text/html": [
       "<div>\n",
       "<style scoped>\n",
       "    .dataframe tbody tr th:only-of-type {\n",
       "        vertical-align: middle;\n",
       "    }\n",
       "\n",
       "    .dataframe tbody tr th {\n",
       "        vertical-align: top;\n",
       "    }\n",
       "\n",
       "    .dataframe thead th {\n",
       "        text-align: right;\n",
       "    }\n",
       "</style>\n",
       "<table border=\"1\" class=\"dataframe\">\n",
       "  <thead>\n",
       "    <tr style=\"text-align: right;\">\n",
       "      <th></th>\n",
       "      <th>Student_ID</th>\n",
       "      <th>Age</th>\n",
       "      <th>Gender</th>\n",
       "      <th>Academic_Level</th>\n",
       "      <th>Country</th>\n",
       "      <th>Avg_Daily_Usage_Hours</th>\n",
       "      <th>Most_Used_Platform</th>\n",
       "      <th>Affects_Academic_Performance</th>\n",
       "      <th>Sleep_Hours_Per_Night</th>\n",
       "      <th>Mental_Health_Score</th>\n",
       "      <th>Relationship_Status</th>\n",
       "      <th>Conflicts_Over_Social_Media</th>\n",
       "      <th>Addicted_Score</th>\n",
       "    </tr>\n",
       "  </thead>\n",
       "  <tbody>\n",
       "    <tr>\n",
       "      <th>0</th>\n",
       "      <td>1</td>\n",
       "      <td>19</td>\n",
       "      <td>Female</td>\n",
       "      <td>Undergraduate</td>\n",
       "      <td>Bangladesh</td>\n",
       "      <td>5.2</td>\n",
       "      <td>Instagram</td>\n",
       "      <td>Yes</td>\n",
       "      <td>6.5</td>\n",
       "      <td>6</td>\n",
       "      <td>In Relationship</td>\n",
       "      <td>3</td>\n",
       "      <td>8</td>\n",
       "    </tr>\n",
       "    <tr>\n",
       "      <th>1</th>\n",
       "      <td>2</td>\n",
       "      <td>22</td>\n",
       "      <td>Male</td>\n",
       "      <td>Graduate</td>\n",
       "      <td>India</td>\n",
       "      <td>2.1</td>\n",
       "      <td>Twitter</td>\n",
       "      <td>No</td>\n",
       "      <td>7.5</td>\n",
       "      <td>8</td>\n",
       "      <td>Single</td>\n",
       "      <td>0</td>\n",
       "      <td>3</td>\n",
       "    </tr>\n",
       "    <tr>\n",
       "      <th>2</th>\n",
       "      <td>3</td>\n",
       "      <td>20</td>\n",
       "      <td>Female</td>\n",
       "      <td>Undergraduate</td>\n",
       "      <td>USA</td>\n",
       "      <td>6.0</td>\n",
       "      <td>TikTok</td>\n",
       "      <td>Yes</td>\n",
       "      <td>5.0</td>\n",
       "      <td>5</td>\n",
       "      <td>Complicated</td>\n",
       "      <td>4</td>\n",
       "      <td>9</td>\n",
       "    </tr>\n",
       "    <tr>\n",
       "      <th>3</th>\n",
       "      <td>4</td>\n",
       "      <td>18</td>\n",
       "      <td>Male</td>\n",
       "      <td>High School</td>\n",
       "      <td>UK</td>\n",
       "      <td>3.0</td>\n",
       "      <td>YouTube</td>\n",
       "      <td>No</td>\n",
       "      <td>7.0</td>\n",
       "      <td>7</td>\n",
       "      <td>Single</td>\n",
       "      <td>1</td>\n",
       "      <td>4</td>\n",
       "    </tr>\n",
       "    <tr>\n",
       "      <th>4</th>\n",
       "      <td>5</td>\n",
       "      <td>21</td>\n",
       "      <td>Male</td>\n",
       "      <td>Graduate</td>\n",
       "      <td>Canada</td>\n",
       "      <td>4.5</td>\n",
       "      <td>Facebook</td>\n",
       "      <td>Yes</td>\n",
       "      <td>6.0</td>\n",
       "      <td>6</td>\n",
       "      <td>In Relationship</td>\n",
       "      <td>2</td>\n",
       "      <td>7</td>\n",
       "    </tr>\n",
       "  </tbody>\n",
       "</table>\n",
       "</div>"
      ],
      "text/plain": [
       "   Student_ID  Age  Gender Academic_Level     Country  Avg_Daily_Usage_Hours  \\\n",
       "0           1   19  Female  Undergraduate  Bangladesh                    5.2   \n",
       "1           2   22    Male       Graduate       India                    2.1   \n",
       "2           3   20  Female  Undergraduate         USA                    6.0   \n",
       "3           4   18    Male    High School          UK                    3.0   \n",
       "4           5   21    Male       Graduate      Canada                    4.5   \n",
       "\n",
       "  Most_Used_Platform Affects_Academic_Performance  Sleep_Hours_Per_Night  \\\n",
       "0          Instagram                          Yes                    6.5   \n",
       "1            Twitter                           No                    7.5   \n",
       "2             TikTok                          Yes                    5.0   \n",
       "3            YouTube                           No                    7.0   \n",
       "4           Facebook                          Yes                    6.0   \n",
       "\n",
       "   Mental_Health_Score Relationship_Status  Conflicts_Over_Social_Media  \\\n",
       "0                    6     In Relationship                            3   \n",
       "1                    8              Single                            0   \n",
       "2                    5         Complicated                            4   \n",
       "3                    7              Single                            1   \n",
       "4                    6     In Relationship                            2   \n",
       "\n",
       "   Addicted_Score  \n",
       "0               8  \n",
       "1               3  \n",
       "2               9  \n",
       "3               4  \n",
       "4               7  "
      ]
     },
     "execution_count": 69,
     "metadata": {},
     "output_type": "execute_result"
    }
   ],
   "source": [
    "df.head()"
   ]
  },
  {
   "cell_type": "code",
   "execution_count": 70,
   "id": "6d9b58c8",
   "metadata": {
    "execution": {
     "iopub.execute_input": "2025-09-05T04:48:18.352292Z",
     "iopub.status.busy": "2025-09-05T04:48:18.351994Z",
     "iopub.status.idle": "2025-09-05T04:48:18.528478Z",
     "shell.execute_reply": "2025-09-05T04:48:18.527585Z"
    },
    "papermill": {
     "duration": 0.19895,
     "end_time": "2025-09-05T04:48:18.529979",
     "exception": false,
     "start_time": "2025-09-05T04:48:18.331029",
     "status": "completed"
    },
    "tags": []
   },
   "outputs": [
    {
     "data": {
      "image/png": "[encoded data removed]",
      "text/plain": [
       "<Figure size 300x300 with 1 Axes>"
      ]
     },
     "metadata": {},
     "output_type": "display_data"
    }
   ],
   "source": [
    "## agewise user of social media Data\n",
    "df.Age.value_counts().sort_index(ascending=False).plot(kind='barh',figsize=(3,3))\n",
    "plt.show()"
   ]
  },
  {
   "cell_type": "code",
   "execution_count": 71,
   "id": "2cea6cad",
   "metadata": {
    "execution": {
     "iopub.execute_input": "2025-09-05T04:48:18.571837Z",
     "iopub.status.busy": "2025-09-05T04:48:18.571188Z",
     "iopub.status.idle": "2025-09-05T04:48:18.760081Z",
     "shell.execute_reply": "2025-09-05T04:48:18.759201Z"
    },
    "papermill": {
     "duration": 0.21114,
     "end_time": "2025-09-05T04:48:18.761491",
     "exception": false,
     "start_time": "2025-09-05T04:48:18.550351",
     "status": "completed"
    },
    "tags": []
   },
   "outputs": [
    {
     "data": {
      "text/plain": [
       "<Axes: ylabel='Most_Used_Platform'>"
      ]
     },
     "execution_count": 71,
     "metadata": {},
     "output_type": "execute_result"
    },
    {
     "data": {
      "image/png": "[encoded data removed]",
      "text/plain": [
       "<Figure size 300x300 with 1 Axes>"
      ]
     },
     "metadata": {},
     "output_type": "display_data"
    }
   ],
   "source": [
    "## which platform are most use\n",
    "df.Most_Used_Platform.value_counts().sort_values(ascending=True).plot(kind='barh',figsize=(3,3))"
   ]
  },
  {
   "cell_type": "code",
   "execution_count": 72,
   "id": "add2b50d",
   "metadata": {
    "execution": {
     "iopub.execute_input": "2025-09-05T04:48:18.803566Z",
     "iopub.status.busy": "2025-09-05T04:48:18.803255Z",
     "iopub.status.idle": "2025-09-05T04:48:18.966504Z",
     "shell.execute_reply": "2025-09-05T04:48:18.965647Z"
    },
    "papermill": {
     "duration": 0.185589,
     "end_time": "2025-09-05T04:48:18.967785",
     "exception": false,
     "start_time": "2025-09-05T04:48:18.782196",
     "status": "completed"
    },
    "tags": []
   },
   "outputs": [
    {
     "data": {
      "image/png": "[encoded data removed]",
      "text/plain": [
       "<Figure size 640x480 with 1 Axes>"
      ]
     },
     "metadata": {},
     "output_type": "display_data"
    }
   ],
   "source": [
    "## which is most time spending platorms\n",
    "\n",
    "df.groupby(['Most_Used_Platform'])['Avg_Daily_Usage_Hours'].sum().sort_values(ascending=True).plot(kind='barh')\n",
    "plt.show()"
   ]
  },
  {
   "cell_type": "code",
   "execution_count": 73,
   "id": "156945e6",
   "metadata": {
    "execution": {
     "iopub.execute_input": "2025-09-05T04:48:19.012183Z",
     "iopub.status.busy": "2025-09-05T04:48:19.011531Z",
     "iopub.status.idle": "2025-09-05T04:48:19.024179Z",
     "shell.execute_reply": "2025-09-05T04:48:19.023423Z"
    },
    "papermill": {
     "duration": 0.035777,
     "end_time": "2025-09-05T04:48:19.025498",
     "exception": false,
     "start_time": "2025-09-05T04:48:18.989721",
     "status": "completed"
    },
    "tags": []
   },
   "outputs": [
    {
     "data": {
      "text/html": [
       "<div>\n",
       "<style scoped>\n",
       "    .dataframe tbody tr th:only-of-type {\n",
       "        vertical-align: middle;\n",
       "    }\n",
       "\n",
       "    .dataframe tbody tr th {\n",
       "        vertical-align: top;\n",
       "    }\n",
       "\n",
       "    .dataframe thead th {\n",
       "        text-align: right;\n",
       "    }\n",
       "</style>\n",
       "<table border=\"1\" class=\"dataframe\">\n",
       "  <thead>\n",
       "    <tr style=\"text-align: right;\">\n",
       "      <th></th>\n",
       "      <th>Student_ID</th>\n",
       "      <th>Age</th>\n",
       "      <th>Gender</th>\n",
       "      <th>Academic_Level</th>\n",
       "      <th>Country</th>\n",
       "      <th>Avg_Daily_Usage_Hours</th>\n",
       "      <th>Most_Used_Platform</th>\n",
       "      <th>Affects_Academic_Performance</th>\n",
       "      <th>Sleep_Hours_Per_Night</th>\n",
       "      <th>Mental_Health_Score</th>\n",
       "      <th>Relationship_Status</th>\n",
       "      <th>Conflicts_Over_Social_Media</th>\n",
       "      <th>Addicted_Score</th>\n",
       "    </tr>\n",
       "  </thead>\n",
       "  <tbody>\n",
       "    <tr>\n",
       "      <th>0</th>\n",
       "      <td>1</td>\n",
       "      <td>19</td>\n",
       "      <td>Female</td>\n",
       "      <td>Undergraduate</td>\n",
       "      <td>Bangladesh</td>\n",
       "      <td>5.2</td>\n",
       "      <td>Instagram</td>\n",
       "      <td>Yes</td>\n",
       "      <td>6.5</td>\n",
       "      <td>6</td>\n",
       "      <td>In Relationship</td>\n",
       "      <td>3</td>\n",
       "      <td>8</td>\n",
       "    </tr>\n",
       "    <tr>\n",
       "      <th>1</th>\n",
       "      <td>2</td>\n",
       "      <td>22</td>\n",
       "      <td>Male</td>\n",
       "      <td>Graduate</td>\n",
       "      <td>India</td>\n",
       "      <td>2.1</td>\n",
       "      <td>Twitter</td>\n",
       "      <td>No</td>\n",
       "      <td>7.5</td>\n",
       "      <td>8</td>\n",
       "      <td>Single</td>\n",
       "      <td>0</td>\n",
       "      <td>3</td>\n",
       "    </tr>\n",
       "    <tr>\n",
       "      <th>2</th>\n",
       "      <td>3</td>\n",
       "      <td>20</td>\n",
       "      <td>Female</td>\n",
       "      <td>Undergraduate</td>\n",
       "      <td>USA</td>\n",
       "      <td>6.0</td>\n",
       "      <td>TikTok</td>\n",
       "      <td>Yes</td>\n",
       "      <td>5.0</td>\n",
       "      <td>5</td>\n",
       "      <td>Complicated</td>\n",
       "      <td>4</td>\n",
       "      <td>9</td>\n",
       "    </tr>\n",
       "    <tr>\n",
       "      <th>3</th>\n",
       "      <td>4</td>\n",
       "      <td>18</td>\n",
       "      <td>Male</td>\n",
       "      <td>High School</td>\n",
       "      <td>UK</td>\n",
       "      <td>3.0</td>\n",
       "      <td>YouTube</td>\n",
       "      <td>No</td>\n",
       "      <td>7.0</td>\n",
       "      <td>7</td>\n",
       "      <td>Single</td>\n",
       "      <td>1</td>\n",
       "      <td>4</td>\n",
       "    </tr>\n",
       "    <tr>\n",
       "      <th>4</th>\n",
       "      <td>5</td>\n",
       "      <td>21</td>\n",
       "      <td>Male</td>\n",
       "      <td>Graduate</td>\n",
       "      <td>Canada</td>\n",
       "      <td>4.5</td>\n",
       "      <td>Facebook</td>\n",
       "      <td>Yes</td>\n",
       "      <td>6.0</td>\n",
       "      <td>6</td>\n",
       "      <td>In Relationship</td>\n",
       "      <td>2</td>\n",
       "      <td>7</td>\n",
       "    </tr>\n",
       "  </tbody>\n",
       "</table>\n",
       "</div>"
      ],
      "text/plain": [
       "   Student_ID  Age  Gender Academic_Level     Country  Avg_Daily_Usage_Hours  \\\n",
       "0           1   19  Female  Undergraduate  Bangladesh                    5.2   \n",
       "1           2   22    Male       Graduate       India                    2.1   \n",
       "2           3   20  Female  Undergraduate         USA                    6.0   \n",
       "3           4   18    Male    High School          UK                    3.0   \n",
       "4           5   21    Male       Graduate      Canada                    4.5   \n",
       "\n",
       "  Most_Used_Platform Affects_Academic_Performance  Sleep_Hours_Per_Night  \\\n",
       "0          Instagram                          Yes                    6.5   \n",
       "1            Twitter                           No                    7.5   \n",
       "2             TikTok                          Yes                    5.0   \n",
       "3            YouTube                           No                    7.0   \n",
       "4           Facebook                          Yes                    6.0   \n",
       "\n",
       "   Mental_Health_Score Relationship_Status  Conflicts_Over_Social_Media  \\\n",
       "0                    6     In Relationship                            3   \n",
       "1                    8              Single                            0   \n",
       "2                    5         Complicated                            4   \n",
       "3                    7              Single                            1   \n",
       "4                    6     In Relationship                            2   \n",
       "\n",
       "   Addicted_Score  \n",
       "0               8  \n",
       "1               3  \n",
       "2               9  \n",
       "3               4  \n",
       "4               7  "
      ]
     },
     "execution_count": 73,
     "metadata": {},
     "output_type": "execute_result"
    }
   ],
   "source": [
    "df.head()"
   ]
  },
  {
   "cell_type": "code",
   "execution_count": 74,
   "id": "1db1b73e",
   "metadata": {
    "execution": {
     "iopub.execute_input": "2025-09-05T04:48:19.070203Z",
     "iopub.status.busy": "2025-09-05T04:48:19.069434Z",
     "iopub.status.idle": "2025-09-05T04:48:19.081181Z",
     "shell.execute_reply": "2025-09-05T04:48:19.080436Z"
    },
    "papermill": {
     "duration": 0.035334,
     "end_time": "2025-09-05T04:48:19.082529",
     "exception": false,
     "start_time": "2025-09-05T04:48:19.047195",
     "status": "completed"
    },
    "tags": []
   },
   "outputs": [
    {
     "data": {
      "text/plain": [
       "Academic_Level  Country      \n",
       "Undergraduate   Switzerland      8.55\n",
       "Graduate        Denmark          8.48\n",
       "Undergraduate   Netherlands      8.18\n",
       "                Japan            8.11\n",
       "                France           8.00\n",
       "                                 ... \n",
       "High School     Lebanon          5.20\n",
       "                Armenia          5.20\n",
       "                Liechtenstein    5.20\n",
       "Undergraduate   USA              5.17\n",
       "High School     UAE              5.10\n",
       "Name: Sleep_Hours_Per_Night, Length: 139, dtype: float64"
      ]
     },
     "execution_count": 74,
     "metadata": {},
     "output_type": "execute_result"
    }
   ],
   "source": [
    "df.groupby(['Academic_Level','Country'])['Sleep_Hours_Per_Night'].mean().sort_values(ascending=False).round(2)"
   ]
  },
  {
   "cell_type": "code",
   "execution_count": 75,
   "id": "b9c129db",
   "metadata": {
    "execution": {
     "iopub.execute_input": "2025-09-05T04:48:19.129733Z",
     "iopub.status.busy": "2025-09-05T04:48:19.128570Z",
     "iopub.status.idle": "2025-09-05T04:48:19.136352Z",
     "shell.execute_reply": "2025-09-05T04:48:19.135405Z"
    },
    "papermill": {
     "duration": 0.033495,
     "end_time": "2025-09-05T04:48:19.137658",
     "exception": false,
     "start_time": "2025-09-05T04:48:19.104163",
     "status": "completed"
    },
    "tags": []
   },
   "outputs": [
    {
     "data": {
      "text/plain": [
       "Relationship_Status\n",
       "Single             384\n",
       "In Relationship    289\n",
       "Complicated         32\n",
       "Name: count, dtype: int64"
      ]
     },
     "execution_count": 75,
     "metadata": {},
     "output_type": "execute_result"
    }
   ],
   "source": [
    "df.Relationship_Status.value_counts()"
   ]
  },
  {
   "cell_type": "code",
   "execution_count": 76,
   "id": "3e61704f",
   "metadata": {
    "execution": {
     "iopub.execute_input": "2025-09-05T04:48:19.181919Z",
     "iopub.status.busy": "2025-09-05T04:48:19.181570Z",
     "iopub.status.idle": "2025-09-05T04:48:19.190912Z",
     "shell.execute_reply": "2025-09-05T04:48:19.190083Z"
    },
    "papermill": {
     "duration": 0.033126,
     "end_time": "2025-09-05T04:48:19.192390",
     "exception": false,
     "start_time": "2025-09-05T04:48:19.159264",
     "status": "completed"
    },
    "tags": []
   },
   "outputs": [
    {
     "data": {
      "text/plain": [
       "Relationship_Status  Country    \n",
       "Complicated          Afghanistan     1\n",
       "                     Albania         1\n",
       "                     Armenia         1\n",
       "                     Australia       1\n",
       "                     Austria         1\n",
       "                                    ..\n",
       "Single               Turkey         26\n",
       "                     UK             15\n",
       "                     USA             7\n",
       "                     Uruguay         1\n",
       "                     Vietnam         1\n",
       "Name: Gender, Length: 138, dtype: int64"
      ]
     },
     "execution_count": 76,
     "metadata": {},
     "output_type": "execute_result"
    }
   ],
   "source": [
    "df.groupby(['Relationship_Status','Country'])['Gender'].count()"
   ]
  },
  {
   "cell_type": "code",
   "execution_count": 77,
   "id": "94d486ae",
   "metadata": {
    "execution": {
     "iopub.execute_input": "2025-09-05T04:48:19.236805Z",
     "iopub.status.busy": "2025-09-05T04:48:19.236371Z",
     "iopub.status.idle": "2025-09-05T04:48:19.246162Z",
     "shell.execute_reply": "2025-09-05T04:48:19.245216Z"
    },
    "papermill": {
     "duration": 0.033514,
     "end_time": "2025-09-05T04:48:19.247553",
     "exception": false,
     "start_time": "2025-09-05T04:48:19.214039",
     "status": "completed"
    },
    "tags": []
   },
   "outputs": [
    {
     "data": {
      "text/html": [
       "<div>\n",
       "<style scoped>\n",
       "    .dataframe tbody tr th:only-of-type {\n",
       "        vertical-align: middle;\n",
       "    }\n",
       "\n",
       "    .dataframe tbody tr th {\n",
       "        vertical-align: top;\n",
       "    }\n",
       "\n",
       "    .dataframe thead th {\n",
       "        text-align: right;\n",
       "    }\n",
       "</style>\n",
       "<table border=\"1\" class=\"dataframe\">\n",
       "  <thead>\n",
       "    <tr style=\"text-align: right;\">\n",
       "      <th></th>\n",
       "      <th>Gender</th>\n",
       "      <th>Academic_Level</th>\n",
       "      <th>Country</th>\n",
       "      <th>Most_Used_Platform</th>\n",
       "      <th>Affects_Academic_Performance</th>\n",
       "      <th>Relationship_Status</th>\n",
       "    </tr>\n",
       "  </thead>\n",
       "  <tbody>\n",
       "    <tr>\n",
       "      <th>0</th>\n",
       "      <td>Female</td>\n",
       "      <td>Undergraduate</td>\n",
       "      <td>Bangladesh</td>\n",
       "      <td>Instagram</td>\n",
       "      <td>Yes</td>\n",
       "      <td>In Relationship</td>\n",
       "    </tr>\n",
       "    <tr>\n",
       "      <th>1</th>\n",
       "      <td>Male</td>\n",
       "      <td>Graduate</td>\n",
       "      <td>India</td>\n",
       "      <td>Twitter</td>\n",
       "      <td>No</td>\n",
       "      <td>Single</td>\n",
       "    </tr>\n",
       "  </tbody>\n",
       "</table>\n",
       "</div>"
      ],
      "text/plain": [
       "   Gender Academic_Level     Country Most_Used_Platform  \\\n",
       "0  Female  Undergraduate  Bangladesh          Instagram   \n",
       "1    Male       Graduate       India            Twitter   \n",
       "\n",
       "  Affects_Academic_Performance Relationship_Status  \n",
       "0                          Yes     In Relationship  \n",
       "1                           No              Single  "
      ]
     },
     "execution_count": 77,
     "metadata": {},
     "output_type": "execute_result"
    }
   ],
   "source": [
    "object_df = df.select_dtypes(exclude = [np.number])\n",
    "object_df.head(2)"
   ]
  },
  {
   "cell_type": "code",
   "execution_count": 78,
   "id": "9bd9b308",
   "metadata": {
    "execution": {
     "iopub.execute_input": "2025-09-05T04:48:19.292439Z",
     "iopub.status.busy": "2025-09-05T04:48:19.292081Z",
     "iopub.status.idle": "2025-09-05T04:48:19.312574Z",
     "shell.execute_reply": "2025-09-05T04:48:19.311761Z"
    },
    "papermill": {
     "duration": 0.044855,
     "end_time": "2025-09-05T04:48:19.314045",
     "exception": false,
     "start_time": "2025-09-05T04:48:19.269190",
     "status": "completed"
    },
    "tags": []
   },
   "outputs": [
    {
     "data": {
      "text/html": [
       "<div>\n",
       "<style scoped>\n",
       "    .dataframe tbody tr th:only-of-type {\n",
       "        vertical-align: middle;\n",
       "    }\n",
       "\n",
       "    .dataframe tbody tr th {\n",
       "        vertical-align: top;\n",
       "    }\n",
       "\n",
       "    .dataframe thead th {\n",
       "        text-align: right;\n",
       "    }\n",
       "</style>\n",
       "<table border=\"1\" class=\"dataframe\">\n",
       "  <thead>\n",
       "    <tr style=\"text-align: right;\">\n",
       "      <th></th>\n",
       "      <th>Gender</th>\n",
       "      <th>Academic_Level</th>\n",
       "      <th>Country</th>\n",
       "      <th>Most_Used_Platform</th>\n",
       "      <th>Affects_Academic_Performance</th>\n",
       "      <th>Relationship_Status</th>\n",
       "    </tr>\n",
       "  </thead>\n",
       "  <tbody>\n",
       "    <tr>\n",
       "      <th>0</th>\n",
       "      <td>0.0</td>\n",
       "      <td>2.0</td>\n",
       "      <td>10.0</td>\n",
       "      <td>1.0</td>\n",
       "      <td>1.0</td>\n",
       "      <td>1.0</td>\n",
       "    </tr>\n",
       "    <tr>\n",
       "      <th>1</th>\n",
       "      <td>1.0</td>\n",
       "      <td>0.0</td>\n",
       "      <td>39.0</td>\n",
       "      <td>7.0</td>\n",
       "      <td>0.0</td>\n",
       "      <td>2.0</td>\n",
       "    </tr>\n",
       "    <tr>\n",
       "      <th>2</th>\n",
       "      <td>0.0</td>\n",
       "      <td>2.0</td>\n",
       "      <td>102.0</td>\n",
       "      <td>6.0</td>\n",
       "      <td>1.0</td>\n",
       "      <td>0.0</td>\n",
       "    </tr>\n",
       "    <tr>\n",
       "      <th>3</th>\n",
       "      <td>1.0</td>\n",
       "      <td>1.0</td>\n",
       "      <td>101.0</td>\n",
       "      <td>11.0</td>\n",
       "      <td>0.0</td>\n",
       "      <td>2.0</td>\n",
       "    </tr>\n",
       "    <tr>\n",
       "      <th>4</th>\n",
       "      <td>1.0</td>\n",
       "      <td>0.0</td>\n",
       "      <td>18.0</td>\n",
       "      <td>0.0</td>\n",
       "      <td>1.0</td>\n",
       "      <td>1.0</td>\n",
       "    </tr>\n",
       "    <tr>\n",
       "      <th>...</th>\n",
       "      <td>...</td>\n",
       "      <td>...</td>\n",
       "      <td>...</td>\n",
       "      <td>...</td>\n",
       "      <td>...</td>\n",
       "      <td>...</td>\n",
       "    </tr>\n",
       "    <tr>\n",
       "      <th>700</th>\n",
       "      <td>0.0</td>\n",
       "      <td>2.0</td>\n",
       "      <td>44.0</td>\n",
       "      <td>6.0</td>\n",
       "      <td>0.0</td>\n",
       "      <td>1.0</td>\n",
       "    </tr>\n",
       "    <tr>\n",
       "      <th>701</th>\n",
       "      <td>1.0</td>\n",
       "      <td>0.0</td>\n",
       "      <td>82.0</td>\n",
       "      <td>1.0</td>\n",
       "      <td>1.0</td>\n",
       "      <td>2.0</td>\n",
       "    </tr>\n",
       "    <tr>\n",
       "      <th>702</th>\n",
       "      <td>0.0</td>\n",
       "      <td>2.0</td>\n",
       "      <td>20.0</td>\n",
       "      <td>9.0</td>\n",
       "      <td>1.0</td>\n",
       "      <td>1.0</td>\n",
       "    </tr>\n",
       "    <tr>\n",
       "      <th>703</th>\n",
       "      <td>1.0</td>\n",
       "      <td>0.0</td>\n",
       "      <td>46.0</td>\n",
       "      <td>7.0</td>\n",
       "      <td>0.0</td>\n",
       "      <td>2.0</td>\n",
       "    </tr>\n",
       "    <tr>\n",
       "      <th>704</th>\n",
       "      <td>0.0</td>\n",
       "      <td>2.0</td>\n",
       "      <td>78.0</td>\n",
       "      <td>0.0</td>\n",
       "      <td>1.0</td>\n",
       "      <td>2.0</td>\n",
       "    </tr>\n",
       "  </tbody>\n",
       "</table>\n",
       "<p>705 rows × 6 columns</p>\n",
       "</div>"
      ],
      "text/plain": [
       "     Gender  Academic_Level  Country  Most_Used_Platform  \\\n",
       "0       0.0             2.0     10.0                 1.0   \n",
       "1       1.0             0.0     39.0                 7.0   \n",
       "2       0.0             2.0    102.0                 6.0   \n",
       "3       1.0             1.0    101.0                11.0   \n",
       "4       1.0             0.0     18.0                 0.0   \n",
       "..      ...             ...      ...                 ...   \n",
       "700     0.0             2.0     44.0                 6.0   \n",
       "701     1.0             0.0     82.0                 1.0   \n",
       "702     0.0             2.0     20.0                 9.0   \n",
       "703     1.0             0.0     46.0                 7.0   \n",
       "704     0.0             2.0     78.0                 0.0   \n",
       "\n",
       "     Affects_Academic_Performance  Relationship_Status  \n",
       "0                             1.0                  1.0  \n",
       "1                             0.0                  2.0  \n",
       "2                             1.0                  0.0  \n",
       "3                             0.0                  2.0  \n",
       "4                             1.0                  1.0  \n",
       "..                            ...                  ...  \n",
       "700                           0.0                  1.0  \n",
       "701                           1.0                  2.0  \n",
       "702                           1.0                  1.0  \n",
       "703                           0.0                  2.0  \n",
       "704                           1.0                  2.0  \n",
       "\n",
       "[705 rows x 6 columns]"
      ]
     },
     "execution_count": 78,
     "metadata": {},
     "output_type": "execute_result"
    }
   ],
   "source": [
    "from sklearn.preprocessing import StandardScaler , OrdinalEncoder \n",
    "orden = OrdinalEncoder()\n",
    "encoded_array = orden.fit_transform(object_df)\n",
    "encoded_df = pd.DataFrame(encoded_array, columns=object_df.columns)\n",
    "encoded_df"
   ]
  },
  {
   "cell_type": "code",
   "execution_count": 79,
   "id": "83f8e310",
   "metadata": {
    "execution": {
     "iopub.execute_input": "2025-09-05T04:48:19.360267Z",
     "iopub.status.busy": "2025-09-05T04:48:19.359973Z",
     "iopub.status.idle": "2025-09-05T04:48:19.370392Z",
     "shell.execute_reply": "2025-09-05T04:48:19.369642Z"
    },
    "papermill": {
     "duration": 0.034933,
     "end_time": "2025-09-05T04:48:19.371571",
     "exception": false,
     "start_time": "2025-09-05T04:48:19.336638",
     "status": "completed"
    },
    "tags": []
   },
   "outputs": [
    {
     "data": {
      "text/html": [
       "<div>\n",
       "<style scoped>\n",
       "    .dataframe tbody tr th:only-of-type {\n",
       "        vertical-align: middle;\n",
       "    }\n",
       "\n",
       "    .dataframe tbody tr th {\n",
       "        vertical-align: top;\n",
       "    }\n",
       "\n",
       "    .dataframe thead th {\n",
       "        text-align: right;\n",
       "    }\n",
       "</style>\n",
       "<table border=\"1\" class=\"dataframe\">\n",
       "  <thead>\n",
       "    <tr style=\"text-align: right;\">\n",
       "      <th></th>\n",
       "      <th>Student_ID</th>\n",
       "      <th>Age</th>\n",
       "      <th>Avg_Daily_Usage_Hours</th>\n",
       "      <th>Sleep_Hours_Per_Night</th>\n",
       "      <th>Mental_Health_Score</th>\n",
       "      <th>Conflicts_Over_Social_Media</th>\n",
       "      <th>Addicted_Score</th>\n",
       "    </tr>\n",
       "  </thead>\n",
       "  <tbody>\n",
       "    <tr>\n",
       "      <th>0</th>\n",
       "      <td>1</td>\n",
       "      <td>19</td>\n",
       "      <td>5.2</td>\n",
       "      <td>6.5</td>\n",
       "      <td>6</td>\n",
       "      <td>3</td>\n",
       "      <td>8</td>\n",
       "    </tr>\n",
       "    <tr>\n",
       "      <th>1</th>\n",
       "      <td>2</td>\n",
       "      <td>22</td>\n",
       "      <td>2.1</td>\n",
       "      <td>7.5</td>\n",
       "      <td>8</td>\n",
       "      <td>0</td>\n",
       "      <td>3</td>\n",
       "    </tr>\n",
       "    <tr>\n",
       "      <th>2</th>\n",
       "      <td>3</td>\n",
       "      <td>20</td>\n",
       "      <td>6.0</td>\n",
       "      <td>5.0</td>\n",
       "      <td>5</td>\n",
       "      <td>4</td>\n",
       "      <td>9</td>\n",
       "    </tr>\n",
       "    <tr>\n",
       "      <th>3</th>\n",
       "      <td>4</td>\n",
       "      <td>18</td>\n",
       "      <td>3.0</td>\n",
       "      <td>7.0</td>\n",
       "      <td>7</td>\n",
       "      <td>1</td>\n",
       "      <td>4</td>\n",
       "    </tr>\n",
       "    <tr>\n",
       "      <th>4</th>\n",
       "      <td>5</td>\n",
       "      <td>21</td>\n",
       "      <td>4.5</td>\n",
       "      <td>6.0</td>\n",
       "      <td>6</td>\n",
       "      <td>2</td>\n",
       "      <td>7</td>\n",
       "    </tr>\n",
       "  </tbody>\n",
       "</table>\n",
       "</div>"
      ],
      "text/plain": [
       "   Student_ID  Age  Avg_Daily_Usage_Hours  Sleep_Hours_Per_Night  \\\n",
       "0           1   19                    5.2                    6.5   \n",
       "1           2   22                    2.1                    7.5   \n",
       "2           3   20                    6.0                    5.0   \n",
       "3           4   18                    3.0                    7.0   \n",
       "4           5   21                    4.5                    6.0   \n",
       "\n",
       "   Mental_Health_Score  Conflicts_Over_Social_Media  Addicted_Score  \n",
       "0                    6                            3               8  \n",
       "1                    8                            0               3  \n",
       "2                    5                            4               9  \n",
       "3                    7                            1               4  \n",
       "4                    6                            2               7  "
      ]
     },
     "execution_count": 79,
     "metadata": {},
     "output_type": "execute_result"
    }
   ],
   "source": [
    "## Find correlation od Numbers \n",
    "\n",
    "num_df = df.select_dtypes(include = [np.number])\n",
    "num_df.head()"
   ]
  },
  {
   "cell_type": "code",
   "execution_count": 80,
   "id": "8a7f5b74",
   "metadata": {
    "execution": {
     "iopub.execute_input": "2025-09-05T04:48:19.416474Z",
     "iopub.status.busy": "2025-09-05T04:48:19.416176Z",
     "iopub.status.idle": "2025-09-05T04:48:19.423442Z",
     "shell.execute_reply": "2025-09-05T04:48:19.422777Z"
    },
    "papermill": {
     "duration": 0.031164,
     "end_time": "2025-09-05T04:48:19.424752",
     "exception": false,
     "start_time": "2025-09-05T04:48:19.393588",
     "status": "completed"
    },
    "tags": []
   },
   "outputs": [
    {
     "data": {
      "text/plain": [
       "Mental_Health_Score           -0.945051\n",
       "Sleep_Hours_Per_Night         -0.764858\n",
       "Age                           -0.166396\n",
       "Student_ID                     0.041637\n",
       "Avg_Daily_Usage_Hours          0.832000\n",
       "Conflicts_Over_Social_Media    0.933586\n",
       "Addicted_Score                 1.000000\n",
       "Name: Addicted_Score, dtype: float64"
      ]
     },
     "execution_count": 80,
     "metadata": {},
     "output_type": "execute_result"
    }
   ],
   "source": [
    "corr_= num_df.corr()\n",
    "corr_['Addicted_Score'].sort_values() \n",
    " "
   ]
  },
  {
   "cell_type": "code",
   "execution_count": 81,
   "id": "88fc6596",
   "metadata": {
    "execution": {
     "iopub.execute_input": "2025-09-05T04:48:19.470020Z",
     "iopub.status.busy": "2025-09-05T04:48:19.469652Z",
     "iopub.status.idle": "2025-09-05T04:48:19.835072Z",
     "shell.execute_reply": "2025-09-05T04:48:19.834157Z"
    },
    "papermill": {
     "duration": 0.390846,
     "end_time": "2025-09-05T04:48:19.837567",
     "exception": false,
     "start_time": "2025-09-05T04:48:19.446721",
     "status": "completed"
    },
    "tags": []
   },
   "outputs": [
    {
     "data": {
      "image/png": "[encoded data removed]",
      "text/plain": [
       "<Figure size 800x600 with 2 Axes>"
      ]
     },
     "metadata": {},
     "output_type": "display_data"
    }
   ],
   "source": [
    "import seaborn as sns\n",
    "# Set the color palette (e.g., 'YlGnBu', 'coolwarm', 'viridis')\n",
    "plt.figure(figsize=(8, 6))\n",
    "sns.heatmap(corr_,annot=True, cmap='YlGnBu',fmt=\".2f\")\n",
    "\n",
    "\n",
    "plt.title('Correlation Matrix of Sample Data', fontsize=16)\n",
    "plt.xlabel('Features', fontsize=12)\n",
    "plt.ylabel('Features', fontsize=12)\n",
    "\n",
    "\n",
    "plt.show()"
   ]
  },
  {
   "cell_type": "code",
   "execution_count": 82,
   "id": "819cf813",
   "metadata": {
    "execution": {
     "iopub.execute_input": "2025-09-05T04:48:19.888411Z",
     "iopub.status.busy": "2025-09-05T04:48:19.888126Z",
     "iopub.status.idle": "2025-09-05T04:48:19.893297Z",
     "shell.execute_reply": "2025-09-05T04:48:19.892308Z"
    },
    "papermill": {
     "duration": 0.031615,
     "end_time": "2025-09-05T04:48:19.894644",
     "exception": false,
     "start_time": "2025-09-05T04:48:19.863029",
     "status": "completed"
    },
    "tags": []
   },
   "outputs": [],
   "source": [
    "df_concat = pd.concat([num_df, encoded_df], axis=1)"
   ]
  },
  {
   "cell_type": "code",
   "execution_count": 83,
   "id": "5215d397",
   "metadata": {
    "execution": {
     "iopub.execute_input": "2025-09-05T04:48:19.943435Z",
     "iopub.status.busy": "2025-09-05T04:48:19.943163Z",
     "iopub.status.idle": "2025-09-05T04:48:19.956446Z",
     "shell.execute_reply": "2025-09-05T04:48:19.955627Z"
    },
    "papermill": {
     "duration": 0.039054,
     "end_time": "2025-09-05T04:48:19.957721",
     "exception": false,
     "start_time": "2025-09-05T04:48:19.918667",
     "status": "completed"
    },
    "tags": []
   },
   "outputs": [
    {
     "data": {
      "text/html": [
       "<div>\n",
       "<style scoped>\n",
       "    .dataframe tbody tr th:only-of-type {\n",
       "        vertical-align: middle;\n",
       "    }\n",
       "\n",
       "    .dataframe tbody tr th {\n",
       "        vertical-align: top;\n",
       "    }\n",
       "\n",
       "    .dataframe thead th {\n",
       "        text-align: right;\n",
       "    }\n",
       "</style>\n",
       "<table border=\"1\" class=\"dataframe\">\n",
       "  <thead>\n",
       "    <tr style=\"text-align: right;\">\n",
       "      <th></th>\n",
       "      <th>Student_ID</th>\n",
       "      <th>Age</th>\n",
       "      <th>Avg_Daily_Usage_Hours</th>\n",
       "      <th>Sleep_Hours_Per_Night</th>\n",
       "      <th>Mental_Health_Score</th>\n",
       "      <th>Conflicts_Over_Social_Media</th>\n",
       "      <th>Addicted_Score</th>\n",
       "      <th>Gender</th>\n",
       "      <th>Academic_Level</th>\n",
       "      <th>Country</th>\n",
       "      <th>Most_Used_Platform</th>\n",
       "      <th>Affects_Academic_Performance</th>\n",
       "      <th>Relationship_Status</th>\n",
       "    </tr>\n",
       "  </thead>\n",
       "  <tbody>\n",
       "    <tr>\n",
       "      <th>0</th>\n",
       "      <td>1</td>\n",
       "      <td>19</td>\n",
       "      <td>5.2</td>\n",
       "      <td>6.5</td>\n",
       "      <td>6</td>\n",
       "      <td>3</td>\n",
       "      <td>8</td>\n",
       "      <td>0.0</td>\n",
       "      <td>2.0</td>\n",
       "      <td>10.0</td>\n",
       "      <td>1.0</td>\n",
       "      <td>1.0</td>\n",
       "      <td>1.0</td>\n",
       "    </tr>\n",
       "    <tr>\n",
       "      <th>1</th>\n",
       "      <td>2</td>\n",
       "      <td>22</td>\n",
       "      <td>2.1</td>\n",
       "      <td>7.5</td>\n",
       "      <td>8</td>\n",
       "      <td>0</td>\n",
       "      <td>3</td>\n",
       "      <td>1.0</td>\n",
       "      <td>0.0</td>\n",
       "      <td>39.0</td>\n",
       "      <td>7.0</td>\n",
       "      <td>0.0</td>\n",
       "      <td>2.0</td>\n",
       "    </tr>\n",
       "    <tr>\n",
       "      <th>2</th>\n",
       "      <td>3</td>\n",
       "      <td>20</td>\n",
       "      <td>6.0</td>\n",
       "      <td>5.0</td>\n",
       "      <td>5</td>\n",
       "      <td>4</td>\n",
       "      <td>9</td>\n",
       "      <td>0.0</td>\n",
       "      <td>2.0</td>\n",
       "      <td>102.0</td>\n",
       "      <td>6.0</td>\n",
       "      <td>1.0</td>\n",
       "      <td>0.0</td>\n",
       "    </tr>\n",
       "  </tbody>\n",
       "</table>\n",
       "</div>"
      ],
      "text/plain": [
       "   Student_ID  Age  Avg_Daily_Usage_Hours  Sleep_Hours_Per_Night  \\\n",
       "0           1   19                    5.2                    6.5   \n",
       "1           2   22                    2.1                    7.5   \n",
       "2           3   20                    6.0                    5.0   \n",
       "\n",
       "   Mental_Health_Score  Conflicts_Over_Social_Media  Addicted_Score  Gender  \\\n",
       "0                    6                            3               8     0.0   \n",
       "1                    8                            0               3     1.0   \n",
       "2                    5                            4               9     0.0   \n",
       "\n",
       "   Academic_Level  Country  Most_Used_Platform  Affects_Academic_Performance  \\\n",
       "0             2.0     10.0                 1.0                           1.0   \n",
       "1             0.0     39.0                 7.0                           0.0   \n",
       "2             2.0    102.0                 6.0                           1.0   \n",
       "\n",
       "   Relationship_Status  \n",
       "0                  1.0  \n",
       "1                  2.0  \n",
       "2                  0.0  "
      ]
     },
     "execution_count": 83,
     "metadata": {},
     "output_type": "execute_result"
    }
   ],
   "source": [
    "df_concat.head(3)"
   ]
  },
  {
   "cell_type": "code",
   "execution_count": 84,
   "id": "8e13c3f9",
   "metadata": {
    "execution": {
     "iopub.execute_input": "2025-09-05T04:48:20.007272Z",
     "iopub.status.busy": "2025-09-05T04:48:20.006719Z",
     "iopub.status.idle": "2025-09-05T04:48:20.014194Z",
     "shell.execute_reply": "2025-09-05T04:48:20.013526Z"
    },
    "papermill": {
     "duration": 0.0335,
     "end_time": "2025-09-05T04:48:20.015358",
     "exception": false,
     "start_time": "2025-09-05T04:48:19.981858",
     "status": "completed"
    },
    "tags": []
   },
   "outputs": [
    {
     "data": {
      "text/plain": [
       "Mental_Health_Score            -0.95\n",
       "Sleep_Hours_Per_Night          -0.76\n",
       "Age                            -0.17\n",
       "Gender                         -0.05\n",
       "Relationship_Status            -0.02\n",
       "Student_ID                      0.04\n",
       "Academic_Level                  0.08\n",
       "Most_Used_Platform              0.21\n",
       "Country                         0.22\n",
       "Avg_Daily_Usage_Hours           0.83\n",
       "Affects_Academic_Performance    0.87\n",
       "Conflicts_Over_Social_Media     0.93\n",
       "Addicted_Score                  1.00\n",
       "Name: Addicted_Score, dtype: float64"
      ]
     },
     "execution_count": 84,
     "metadata": {},
     "output_type": "execute_result"
    }
   ],
   "source": [
    "df_concat.corr().round(2)['Addicted_Score'].sort_values()"
   ]
  },
  {
   "cell_type": "code",
   "execution_count": 85,
   "id": "ca08bdd8",
   "metadata": {
    "execution": {
     "iopub.execute_input": "2025-09-05T04:48:20.064307Z",
     "iopub.status.busy": "2025-09-05T04:48:20.064025Z",
     "iopub.status.idle": "2025-09-05T04:48:20.073821Z",
     "shell.execute_reply": "2025-09-05T04:48:20.072931Z"
    },
    "papermill": {
     "duration": 0.035999,
     "end_time": "2025-09-05T04:48:20.075416",
     "exception": false,
     "start_time": "2025-09-05T04:48:20.039417",
     "status": "completed"
    },
    "tags": []
   },
   "outputs": [
    {
     "name": "stdout",
     "output_type": "stream",
     "text": [
      "<class 'pandas.core.frame.DataFrame'>\n",
      "RangeIndex: 705 entries, 0 to 704\n",
      "Data columns (total 13 columns):\n",
      " #   Column                        Non-Null Count  Dtype  \n",
      "---  ------                        --------------  -----  \n",
      " 0   Student_ID                    705 non-null    int64  \n",
      " 1   Age                           705 non-null    int64  \n",
      " 2   Avg_Daily_Usage_Hours         705 non-null    float64\n",
      " 3   Sleep_Hours_Per_Night         705 non-null    float64\n",
      " 4   Mental_Health_Score           705 non-null    int64  \n",
      " 5   Conflicts_Over_Social_Media   705 non-null    int64  \n",
      " 6   Addicted_Score                705 non-null    int64  \n",
      " 7   Gender                        705 non-null    float64\n",
      " 8   Academic_Level                705 non-null    float64\n",
      " 9   Country                       705 non-null    float64\n",
      " 10  Most_Used_Platform            705 non-null    float64\n",
      " 11  Affects_Academic_Performance  705 non-null    float64\n",
      " 12  Relationship_Status           705 non-null    float64\n",
      "dtypes: float64(8), int64(5)\n",
      "memory usage: 71.7 KB\n"
     ]
    }
   ],
   "source": [
    "df_concat.info()"
   ]
  },
  {
   "cell_type": "code",
   "execution_count": 86,
   "id": "faa85610",
   "metadata": {
    "execution": {
     "iopub.execute_input": "2025-09-05T04:48:20.124987Z",
     "iopub.status.busy": "2025-09-05T04:48:20.124210Z",
     "iopub.status.idle": "2025-09-05T04:48:20.133864Z",
     "shell.execute_reply": "2025-09-05T04:48:20.133040Z"
    },
    "papermill": {
     "duration": 0.035804,
     "end_time": "2025-09-05T04:48:20.135311",
     "exception": false,
     "start_time": "2025-09-05T04:48:20.099507",
     "status": "completed"
    },
    "tags": []
   },
   "outputs": [
    {
     "data": {
      "text/html": [
       "<div>\n",
       "<style scoped>\n",
       "    .dataframe tbody tr th:only-of-type {\n",
       "        vertical-align: middle;\n",
       "    }\n",
       "\n",
       "    .dataframe tbody tr th {\n",
       "        vertical-align: top;\n",
       "    }\n",
       "\n",
       "    .dataframe thead th {\n",
       "        text-align: right;\n",
       "    }\n",
       "</style>\n",
       "<table border=\"1\" class=\"dataframe\">\n",
       "  <thead>\n",
       "    <tr style=\"text-align: right;\">\n",
       "      <th></th>\n",
       "      <th>Student_ID</th>\n",
       "      <th>Age</th>\n",
       "      <th>Avg_Daily_Usage_Hours</th>\n",
       "      <th>Sleep_Hours_Per_Night</th>\n",
       "      <th>Mental_Health_Score</th>\n",
       "      <th>Conflicts_Over_Social_Media</th>\n",
       "      <th>Addicted_Score</th>\n",
       "    </tr>\n",
       "  </thead>\n",
       "  <tbody>\n",
       "    <tr>\n",
       "      <th>0</th>\n",
       "      <td>1</td>\n",
       "      <td>19</td>\n",
       "      <td>5.2</td>\n",
       "      <td>6.5</td>\n",
       "      <td>6</td>\n",
       "      <td>3</td>\n",
       "      <td>8</td>\n",
       "    </tr>\n",
       "    <tr>\n",
       "      <th>1</th>\n",
       "      <td>2</td>\n",
       "      <td>22</td>\n",
       "      <td>2.1</td>\n",
       "      <td>7.5</td>\n",
       "      <td>8</td>\n",
       "      <td>0</td>\n",
       "      <td>3</td>\n",
       "    </tr>\n",
       "  </tbody>\n",
       "</table>\n",
       "</div>"
      ],
      "text/plain": [
       "   Student_ID  Age  Avg_Daily_Usage_Hours  Sleep_Hours_Per_Night  \\\n",
       "0           1   19                    5.2                    6.5   \n",
       "1           2   22                    2.1                    7.5   \n",
       "\n",
       "   Mental_Health_Score  Conflicts_Over_Social_Media  Addicted_Score  \n",
       "0                    6                            3               8  \n",
       "1                    8                            0               3  "
      ]
     },
     "execution_count": 86,
     "metadata": {},
     "output_type": "execute_result"
    }
   ],
   "source": [
    "num_df.head(2)"
   ]
  },
  {
   "cell_type": "code",
   "execution_count": 87,
   "id": "73daf97b",
   "metadata": {
    "execution": {
     "iopub.execute_input": "2025-09-05T04:48:20.186337Z",
     "iopub.status.busy": "2025-09-05T04:48:20.186022Z",
     "iopub.status.idle": "2025-09-05T04:48:20.195716Z",
     "shell.execute_reply": "2025-09-05T04:48:20.194846Z"
    },
    "papermill": {
     "duration": 0.037111,
     "end_time": "2025-09-05T04:48:20.197180",
     "exception": false,
     "start_time": "2025-09-05T04:48:20.160069",
     "status": "completed"
    },
    "tags": []
   },
   "outputs": [
    {
     "data": {
      "text/html": [
       "<div>\n",
       "<style scoped>\n",
       "    .dataframe tbody tr th:only-of-type {\n",
       "        vertical-align: middle;\n",
       "    }\n",
       "\n",
       "    .dataframe tbody tr th {\n",
       "        vertical-align: top;\n",
       "    }\n",
       "\n",
       "    .dataframe thead th {\n",
       "        text-align: right;\n",
       "    }\n",
       "</style>\n",
       "<table border=\"1\" class=\"dataframe\">\n",
       "  <thead>\n",
       "    <tr style=\"text-align: right;\">\n",
       "      <th></th>\n",
       "      <th>Gender</th>\n",
       "      <th>Academic_Level</th>\n",
       "      <th>Country</th>\n",
       "      <th>Most_Used_Platform</th>\n",
       "      <th>Affects_Academic_Performance</th>\n",
       "      <th>Relationship_Status</th>\n",
       "    </tr>\n",
       "  </thead>\n",
       "  <tbody>\n",
       "    <tr>\n",
       "      <th>0</th>\n",
       "      <td>Female</td>\n",
       "      <td>Undergraduate</td>\n",
       "      <td>Bangladesh</td>\n",
       "      <td>Instagram</td>\n",
       "      <td>Yes</td>\n",
       "      <td>In Relationship</td>\n",
       "    </tr>\n",
       "    <tr>\n",
       "      <th>1</th>\n",
       "      <td>Male</td>\n",
       "      <td>Graduate</td>\n",
       "      <td>India</td>\n",
       "      <td>Twitter</td>\n",
       "      <td>No</td>\n",
       "      <td>Single</td>\n",
       "    </tr>\n",
       "  </tbody>\n",
       "</table>\n",
       "</div>"
      ],
      "text/plain": [
       "   Gender Academic_Level     Country Most_Used_Platform  \\\n",
       "0  Female  Undergraduate  Bangladesh          Instagram   \n",
       "1    Male       Graduate       India            Twitter   \n",
       "\n",
       "  Affects_Academic_Performance Relationship_Status  \n",
       "0                          Yes     In Relationship  \n",
       "1                           No              Single  "
      ]
     },
     "execution_count": 87,
     "metadata": {},
     "output_type": "execute_result"
    }
   ],
   "source": [
    "object_df.head(2)"
   ]
  },
  {
   "cell_type": "code",
   "execution_count": 88,
   "id": "d0f7de3f",
   "metadata": {
    "execution": {
     "iopub.execute_input": "2025-09-05T04:48:20.247837Z",
     "iopub.status.busy": "2025-09-05T04:48:20.247525Z",
     "iopub.status.idle": "2025-09-05T04:48:20.252535Z",
     "shell.execute_reply": "2025-09-05T04:48:20.251908Z"
    },
    "papermill": {
     "duration": 0.031761,
     "end_time": "2025-09-05T04:48:20.253774",
     "exception": false,
     "start_time": "2025-09-05T04:48:20.222013",
     "status": "completed"
    },
    "tags": []
   },
   "outputs": [],
   "source": [
    "X = df_concat.drop(columns=['Addicted_Score'])\n",
    "y = df_concat['Addicted_Score']"
   ]
  },
  {
   "cell_type": "code",
   "execution_count": 89,
   "id": "46d4c4bb",
   "metadata": {
    "execution": {
     "iopub.execute_input": "2025-09-05T04:48:20.303706Z",
     "iopub.status.busy": "2025-09-05T04:48:20.303401Z",
     "iopub.status.idle": "2025-09-05T04:48:20.309615Z",
     "shell.execute_reply": "2025-09-05T04:48:20.308936Z"
    },
    "papermill": {
     "duration": 0.032626,
     "end_time": "2025-09-05T04:48:20.310815",
     "exception": false,
     "start_time": "2025-09-05T04:48:20.278189",
     "status": "completed"
    },
    "tags": []
   },
   "outputs": [],
   "source": [
    "X_train, X_test , y_train , y_test = train_test_split(X,y,test_size = 0.2,random_state=111)"
   ]
  },
  {
   "cell_type": "code",
   "execution_count": 90,
   "id": "0ebdca12",
   "metadata": {
    "execution": {
     "iopub.execute_input": "2025-09-05T04:48:20.362178Z",
     "iopub.status.busy": "2025-09-05T04:48:20.361831Z",
     "iopub.status.idle": "2025-09-05T04:48:20.785724Z",
     "shell.execute_reply": "2025-09-05T04:48:20.784918Z"
    },
    "papermill": {
     "duration": 0.451673,
     "end_time": "2025-09-05T04:48:20.787176",
     "exception": false,
     "start_time": "2025-09-05T04:48:20.335503",
     "status": "completed"
    },
    "tags": []
   },
   "outputs": [
    {
     "data": {
      "text/html": [
       "<style>#sk-container-id-3 {color: black;background-color: white;}#sk-container-id-3 pre{padding: 0;}#sk-container-id-3 div.sk-toggleable {background-color: white;}#sk-container-id-3 label.sk-toggleable__label {cursor: pointer;display: block;width: 100%;margin-bottom: 0;padding: 0.3em;box-sizing: border-box;text-align: center;}#sk-container-id-3 label.sk-toggleable__label-arrow:before {content: \"▸\";float: left;margin-right: 0.25em;color: #696969;}#sk-container-id-3 label.sk-toggleable__label-arrow:hover:before {color: black;}#sk-container-id-3 div.sk-estimator:hover label.sk-toggleable__label-arrow:before {color: black;}#sk-container-id-3 div.sk-toggleable__content {max-height: 0;max-width: 0;overflow: hidden;text-align: left;background-color: #f0f8ff;}#sk-container-id-3 div.sk-toggleable__content pre {margin: 0.2em;color: black;border-radius: 0.25em;background-color: #f0f8ff;}#sk-container-id-3 input.sk-toggleable__control:checked~div.sk-toggleable__content {max-height: 200px;max-width: 100%;overflow: auto;}#sk-container-id-3 input.sk-toggleable__control:checked~label.sk-toggleable__label-arrow:before {content: \"▾\";}#sk-container-id-3 div.sk-estimator input.sk-toggleable__control:checked~label.sk-toggleable__label {background-color: #d4ebff;}#sk-container-id-3 div.sk-label input.sk-toggleable__control:checked~label.sk-toggleable__label {background-color: #d4ebff;}#sk-container-id-3 input.sk-hidden--visually {border: 0;clip: rect(1px 1px 1px 1px);clip: rect(1px, 1px, 1px, 1px);height: 1px;margin: -1px;overflow: hidden;padding: 0;position: absolute;width: 1px;}#sk-container-id-3 div.sk-estimator {font-family: monospace;background-color: #f0f8ff;border: 1px dotted black;border-radius: 0.25em;box-sizing: border-box;margin-bottom: 0.5em;}#sk-container-id-3 div.sk-estimator:hover {background-color: #d4ebff;}#sk-container-id-3 div.sk-parallel-item::after {content: \"\";width: 100%;border-bottom: 1px solid gray;flex-grow: 1;}#sk-container-id-3 div.sk-label:hover label.sk-toggleable__label {background-color: #d4ebff;}#sk-container-id-3 div.sk-serial::before {content: \"\";position: absolute;border-left: 1px solid gray;box-sizing: border-box;top: 0;bottom: 0;left: 50%;z-index: 0;}#sk-container-id-3 div.sk-serial {display: flex;flex-direction: column;align-items: center;background-color: white;padding-right: 0.2em;padding-left: 0.2em;position: relative;}#sk-container-id-3 div.sk-item {position: relative;z-index: 1;}#sk-container-id-3 div.sk-parallel {display: flex;align-items: stretch;justify-content: center;background-color: white;position: relative;}#sk-container-id-3 div.sk-item::before, #sk-container-id-3 div.sk-parallel-item::before {content: \"\";position: absolute;border-left: 1px solid gray;box-sizing: border-box;top: 0;bottom: 0;left: 50%;z-index: -1;}#sk-container-id-3 div.sk-parallel-item {display: flex;flex-direction: column;z-index: 1;position: relative;background-color: white;}#sk-container-id-3 div.sk-parallel-item:first-child::after {align-self: flex-end;width: 50%;}#sk-container-id-3 div.sk-parallel-item:last-child::after {align-self: flex-start;width: 50%;}#sk-container-id-3 div.sk-parallel-item:only-child::after {width: 0;}#sk-container-id-3 div.sk-dashed-wrapped {border: 1px dashed gray;margin: 0 0.4em 0.5em 0.4em;box-sizing: border-box;padding-bottom: 0.4em;background-color: white;}#sk-container-id-3 div.sk-label label {font-family: monospace;font-weight: bold;display: inline-block;line-height: 1.2em;}#sk-container-id-3 div.sk-label-container {text-align: center;}#sk-container-id-3 div.sk-container {/* jupyter's `normalize.less` sets `[hidden] { display: none; }` but bootstrap.min.css set `[hidden] { display: none !important; }` so we also need the `!important` here to be able to override the default hidden behavior on the sphinx rendered scikit-learn.org. See: https://github.com/scikit-learn/scikit-learn/issues/21755 */display: inline-block !important;position: relative;}#sk-container-id-3 div.sk-text-repr-fallback {display: none;}</style><div id=\"sk-container-id-3\" class=\"sk-top-container\"><div class=\"sk-text-repr-fallback\"><pre>RandomForestClassifier()</pre><b>In a Jupyter environment, please rerun this cell to show the HTML representation or trust the notebook. <br />On GitHub, the HTML representation is unable to render, please try loading this page with nbviewer.org.</b></div><div class=\"sk-container\" hidden><div class=\"sk-item\"><div class=\"sk-estimator sk-toggleable\"><input class=\"sk-toggleable__control sk-hidden--visually\" id=\"sk-estimator-id-3\" type=\"checkbox\" checked><label for=\"sk-estimator-id-3\" class=\"sk-toggleable__label sk-toggleable__label-arrow\">RandomForestClassifier</label><div class=\"sk-toggleable__content\"><pre>RandomForestClassifier()</pre></div></div></div></div></div>"
      ],
      "text/plain": [
       "RandomForestClassifier()"
      ]
     },
     "execution_count": 90,
     "metadata": {},
     "output_type": "execute_result"
    }
   ],
   "source": [
    "from sklearn.ensemble import RandomForestClassifier\n",
    "\n",
    "clf = RandomForestClassifier()\n",
    "clf.fit(X_train,y_train)"
   ]
  },
  {
   "cell_type": "code",
   "execution_count": 91,
   "id": "2f5ce494",
   "metadata": {
    "execution": {
     "iopub.execute_input": "2025-09-05T04:48:20.838181Z",
     "iopub.status.busy": "2025-09-05T04:48:20.837515Z",
     "iopub.status.idle": "2025-09-05T04:48:20.851188Z",
     "shell.execute_reply": "2025-09-05T04:48:20.850425Z"
    },
    "papermill": {
     "duration": 0.040704,
     "end_time": "2025-09-05T04:48:20.852693",
     "exception": false,
     "start_time": "2025-09-05T04:48:20.811989",
     "status": "completed"
    },
    "tags": []
   },
   "outputs": [],
   "source": [
    "pred = clf.predict(X_test[5:8])"
   ]
  },
  {
   "cell_type": "code",
   "execution_count": 92,
   "id": "45a1aaa5",
   "metadata": {
    "execution": {
     "iopub.execute_input": "2025-09-05T04:48:20.903780Z",
     "iopub.status.busy": "2025-09-05T04:48:20.903460Z",
     "iopub.status.idle": "2025-09-05T04:48:20.908028Z",
     "shell.execute_reply": "2025-09-05T04:48:20.907179Z"
    },
    "papermill": {
     "duration": 0.031651,
     "end_time": "2025-09-05T04:48:20.909403",
     "exception": false,
     "start_time": "2025-09-05T04:48:20.877752",
     "status": "completed"
    },
    "tags": []
   },
   "outputs": [
    {
     "name": "stdout",
     "output_type": "stream",
     "text": [
      "pred addicted score [8 7 4]  and actual addicted score [8 7 4]\n"
     ]
    }
   ],
   "source": [
    "print(f'pred addicted score {pred}  and actual addicted score {y_test[5:8].values}')"
   ]
  },
  {
   "cell_type": "code",
   "execution_count": 93,
   "id": "1bf91328",
   "metadata": {
    "execution": {
     "iopub.execute_input": "2025-09-05T04:48:20.960593Z",
     "iopub.status.busy": "2025-09-05T04:48:20.960278Z",
     "iopub.status.idle": "2025-09-05T04:48:20.975635Z",
     "shell.execute_reply": "2025-09-05T04:48:20.974915Z"
    },
    "papermill": {
     "duration": 0.042406,
     "end_time": "2025-09-05T04:48:20.977137",
     "exception": false,
     "start_time": "2025-09-05T04:48:20.934731",
     "status": "completed"
    },
    "tags": []
   },
   "outputs": [
    {
     "data": {
      "text/plain": [
       "0.9787234042553191"
      ]
     },
     "execution_count": 93,
     "metadata": {},
     "output_type": "execute_result"
    }
   ],
   "source": [
    "(clf.predict(X_test) == y_test).sum()/y_test.shape[0]"
   ]
  }
 ],
 "metadata": {
  "kaggle": {
   "accelerator": "none",
   "dataSources": [
    {
     "datasetId": 7381156,
     "sourceId": 11760664,
     "sourceType": "datasetVersion"
    }
   ],
   "dockerImageVersionId": 31040,
   "isGpuEnabled": false,
   "isInternetEnabled": false,
   "language": "python",
   "sourceType": "notebook"
  },
  "kernelspec": {
   "display_name": "Python 3",
   "language": "python",
   "name": "python3"
  },
  "language_info": {
   "codemirror_mode": {
    "name": "ipython",
    "version": 3
   },
   "file_extension": ".py",
   "mimetype": "text/x-python",
   "name": "python",
   "nbconvert_exporter": "python",
   "pygments_lexer": "ipython3",
   "version": "3.11.11"
  },
  "papermill": {
   "default_parameters": {},
   "duration": 17.784539,
   "end_time": "2025-09-05T04:48:21.722777",
   "environment_variables": {},
   "exception": null,
   "input_path": "__notebook__.ipynb",
   "output_path": "__notebook__.ipynb",
   "parameters": {},
   "start_time": "2025-09-05T04:48:03.938238",
   "version": "2.6.0"
  }
 },
 "nbformat": 4,
 "nbformat_minor": 5
}
